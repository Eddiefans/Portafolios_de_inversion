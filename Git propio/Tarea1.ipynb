{
 "cells": [
  {
   "cell_type": "markdown",
   "id": "eea33bc3",
   "metadata": {},
   "source": [
    "# <span style=\"color: blue;\">Presentación</span>"
   ]
  },
  {
   "cell_type": "markdown",
   "id": "bc1762b9",
   "metadata": {},
   "source": [
    "## *Eddie Aguilar Ceballos*"
   ]
  },
  {
   "cell_type": "markdown",
   "id": "b0a92520",
   "metadata": {},
   "source": [
    "Mi nombre es Eddie, tengo 20 años y vivo en Guadalajara, Jalisco, Mexico.\n",
    "Actualmente estudio Ingeniería Financiera en ITESO y estoy cursando el cuartosemestre. Anteriormente también estudié *Desarrollo de Software* a nivel tecnólogo en CETI Colomos."
   ]
  },
  {
   "cell_type": "markdown",
   "id": "e97c9a4c",
   "metadata": {},
   "source": [
    "# <span style=\"color: blue;\">Artículo</span>"
   ]
  },
  {
   "cell_type": "markdown",
   "id": "53df9ec5",
   "metadata": {},
   "source": [
    "[Python is becoming the world’s most popular coding language](https://www.economist.com/graphic-detail/2018/07/26/python-is-becoming-the-worlds-most-popular-coding-language)"
   ]
  },
  {
   "cell_type": "markdown",
   "id": "74651733",
   "metadata": {},
   "source": [
    "Python es un lenguaje de programación que nació en 1989, si bien su popularidad y uso en masa no llegó de la noche a la mañana, eventualmente lo hizo. Hoy en día, es uno de los lenguajes más populares y usados del mundo, además el lenguaje que tiene más consultas en Google. \n",
    "\n",
    "Su ascenso no fue predecible, incluso para su propio creador, sin embargo, tiene sentido debido a las características que el lenguaje obtiene a comparación de otros, algunos de los puntos clave que tiene como lenguaje son los siguientes:\n",
    "- Simplicidad. El creador de Python siempre tuvo en mente hacer un lenguaje que fuera fácil de leer incluso para personas que no saben programar, de esta forma, es uno de los lenguajes más intuitivos que existen actualmente. \n",
    "\n",
    "\n",
    "- Versatilidad. La capacidad de crear paquetes y el entusiasmo que muchos usuarios tienen para innovar y aportar nuevas herramientas mediante el desarrollo de estos, hace que Python tenga muchas posibilidades de creación y que sea muy fácil para nuevos usuarios encontrar herramientas que le ahorren tiempo y actividades para su objetivo principal con el lenguaje.\n",
    "\n",
    "A pesar de estas ventajas y de que muchas personas creen que los demás lenguajes quedaron muy obsoletos a comparación de Python, la desaparición de todos los otros lenguajes es muy poco probable y no significa que sean inútiles ni poco usados. \n",
    "\n",
    "Lo intuitivo de Python puede llegar a ser un arma de doble filo, muchos programadores están acostumbrados a lenguajes de nivel bajo, no se ven abrumados al usarlos y sienten tener más control que al usar Python.\n",
    "\n",
    "Personalmente, el uso de lenguajes cada vez más intuitivos y con paquetes muy facilitadores hacen que los programadores no entiendan el uso de la informática desde un punto base, lo que crea dependencia a ciertas herramientas y puede desencadenar ciertos problemas al momento de innovar.\n"
   ]
  },
  {
   "cell_type": "markdown",
   "id": "45ed8805",
   "metadata": {},
   "source": [
    "Los lenguajes de programación con más busquedas en Google US de 2018 son los siguientes:\n",
    "\n",
    "1. Python\n",
    "1. Java\n",
    "1. JavaScript\n",
    "1. R\n",
    "1. C++\n",
    "1. PHP\n",
    "1. Perl "
   ]
  },
  {
   "cell_type": "markdown",
   "id": "88debff8",
   "metadata": {},
   "source": [
    "<img src=\"https://pbs.twimg.com/media/DjXuBYtUYAEM6Hj.jpg\" />"
   ]
  }
 ],
 "metadata": {
  "kernelspec": {
   "display_name": "Python 3 (ipykernel)",
   "language": "python",
   "name": "python3"
  },
  "language_info": {
   "codemirror_mode": {
    "name": "ipython",
    "version": 3
   },
   "file_extension": ".py",
   "mimetype": "text/x-python",
   "name": "python",
   "nbconvert_exporter": "python",
   "pygments_lexer": "ipython3",
   "version": "3.9.12"
  }
 },
 "nbformat": 4,
 "nbformat_minor": 5
}
