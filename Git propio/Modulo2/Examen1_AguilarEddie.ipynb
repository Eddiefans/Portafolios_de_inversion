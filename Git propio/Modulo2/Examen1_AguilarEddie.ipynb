{
 "cells": [
  {
   "cell_type": "markdown",
   "metadata": {},
   "source": [
    "# Examen 1 - Portafolios de inversión - P2023. Tipo 1.\n",
    "\n",
    "<img style=\"float: right; margin: 0px 0px 15px 15px;\" src=\"data:image/jpeg;base64,/9j/4AAQSkZJRgABAQAAAQABAAD/2wCEAAkGBxAQEBIRDxAQDxAQDxYQFxAWFRoVFRAVGBUWFxUVFhUYHSggGBolGxUVITEhJSkrLi4uFx8zODMtNygtLisBCgoKDg0OGxAQGzMjICUvLS0tKy0vLTAtLy8tLSstLy0tLS0vLy8tLS0tLS0tLS8tLSstLS0tLS0tLS0tKy0vLf/AABEIAKoBKAMBIgACEQEDEQH/xAAcAAEAAgMBAQEAAAAAAAAAAAAAAQYEBQcDAgj/xABAEAABAwIDBAcECAQGAwAAAAABAAIDBBEFITEGEkFREyIyYXGBkSNCobEHFFJiksHR4TNTgvAVFiRDovFywtL/xAAaAQEAAwEBAQAAAAAAAAAAAAAAAQIDBAYF/8QAKxEAAgECBQIFBQEBAAAAAAAAAAECAxEEEiExQRNRBRQiYfBCcaGxwdEy/9oADAMBAAIRAxEAPwDuARQpUAIilAQVC+lCAIiIAiIgCKUQBERSAihrgRcG45qUAREQBERAEREAREQBERAEREAREQBERAEREAREQBERAfKlQpUAKURAFClEAUIiAKURAERFICh7bgjmLKURq4KrFiL4nEX7LrOadOWisFFXMl0IDrXLb/Lmq/tTS9G8St0dkR3/ALhaiGrc0gt01GefrzXjKWLr+G1pUpeqKez7d0XbTOgotPgeMCbqPI3wLg/aH6rcL1mHxEMRTVSGzKBERbgIiIAigkDM5BYsuIxDRzXHkDdZ1K1OmrzdiUmzLRYVDKXucb5WGXJZqihWVWGdbBqwREWpAREQBERAEREAREQBERAfKlQpCgEoiIAoUqEBKIiAIiKQEREAREQGo2mHsR3vt8D+iowdukt4O/4nmFfdom/6d5+yWu8OsLn0JVArWj915HxuFsSn3S/pEmetHVmGVjs7scCR8x6X9V0xrgQCMwRcLlTuu24N3sb+JttfEfJdKwacSU8Thxjb8BY/JdngM7Z4fZ/7/CImYiIvRFgtfj1caenfK0XLbAcgSQLn1WJGTUyOeJHxxxizd02BN+0fQ+Vl9CI1Q3CXfV22Bce1OQfgLjX+xx1K0pRcYbu+V/37ItlsUw1ksxu9znHXM/lwWZSQyucGsY8knW2Q/vvV5pqOOIWjY1g7h8zxXuvlx8BTeapO7+dyc5j0NN0bA29zqTzKyERfehBQiox2RQIiKwCIiAIiIAiIgCIiAIiICERFUBLoikC6IiAIiIAiIgJRQiAlFCIDxrYOkifHpvscy/K4IXOqphBIe2xBsRbNpC6YtXi2BQ1Ny4Fr7W326nlcaFfL8SwDxKThuvyQ0c4LzGb6gHIjP1V02KxBjmGIEalzW8W31bblxHieS1NRsTMD7N8ZH2rlp9LH5r4i2drKdwe1okI4tdZ37r5WEo4jC1c+R+/xFFdM6AsXFakRQSyE2DI3G/fbL42Wp2f2hE7uhlBZOAdRYPtrlwdxstV9KuJOgpYWt3T0tU1rmu95jWufbUe81i9HGvGpSzwZrFZnYzsFPTRNhjPU7Urx42DB3kDNWVjA0AAWAFgOQWo2RpyykiLmdG+VvSuaTcguzAPfay3KrhaOSCct7fF85JlvYIiLpKhERAEREAREQBERAEREAREQBERAQiIqgIiKQEREAREQBERAEREBKKEQEoiIAiIpBo8OwmL61NORd4flyaSDc255lUv6UD9ZxHD6EcTvuHdJIGX8mxvV+wuS8tSPsygfBc9wY/XdpaiXtMpA5o5Do2iEj8b3lctOCjCyW7f7NYaO51MBSiLqMgiIgCIiAIiIAiIgCIiAIiIAiIgCIiAhERQAihSgCIiAIiIAiIgClQiAlFClAEREAREUgq2H4m2GPEqh/Zp55nHwjbe3981WvoQondDU1cly+eYM3j71hvvcPF0n/Faba/GejwutYDZ1XjUsPfuNIkefCzQ3+pdG+j7Dfq2GUsZFnGESu/8AKT2jh5b1vJYw1sbT0TLCiItjEIiIAiIgCIiAIiIAiIgCIiAIiIAiIgIUIigBSoUoAiIgChzgNSB4qm4zjdTI7dpz0UZHbHaOZA8NP+1oZaSV+bpXu5kuNz5iy454tJ2SubRot7nTPrDPts/EEFQz7bPxBcuFEy2cjvX5m6NoW36sjxlrna35FV84+xPR9zqwRcwhbUxZxVEngHE3/Et1hu1kzCG1Td9v8wCxHiNP78lpDFxej0Kui1sbvHNpYKU7rryS2vuN4ct48FVKnb6U6bkLScrN3z+JxA9AVrRX0lTLLJWF/SvkuG3sxrRkwdXM2AGfjks6Ckw5+bnRk30zPxOZ9FhUryk9JWRpGmktUYsm2032pDc677LDQ6CPQ+JWG3baf7XHskNNrc3FueisAwrDyMmwnxz/APZe0ez9G4ZQRuF9bHP4+Kzyt/V+S2nYr/8AmuSU3Nmute7bju1b8rLaYVtl0D7zulfC5mQycQ7K1iTprx5LOOy9JqYQy/EAhYNVhVExti42OVgN0XHgBz79e9EpQeZP8jSStY5jtLLHUTMZHJ7MVtS50ZNne1maSRwvuNYNfdy4rr9N9I1I53R2LCAMrnIcM923xXIdo8OpYpZJYZHBwkLgw9YPuRaxAG7qTnfTvy1FDjRa5z5YZHNJzewZAeBWyqyt6SJJN2Z+jodomuzEZI1FnA7w7rL1p9oYnPEbmyREmwL22af6gSBpxsuG4ftXQ3G7P0TraODm52PvWtqG8VdcL2kDwegqmyjMdV7ZLC0gFxc21Yc1CxM4v1/or0k9jqbSDobrR7WbRtoGRuLOkMj93dvbIC5Py9VWajHG9GC0NEvWJ3BuuHWNhZhB0yVQ2pra2pY32E7iy+67O2et98G4048Fo8VmVoohUrbnQ8P+kKkksHtkiJyzFx6hWGlxenl7ErD3XsfiuA0c9UA3foZ3PAs4Na3dvc5jrk6EZWW2osUNyHRVUDtLPheB+IAt9SqeZqR3V/nsT0os7qDfTNSudbOV7ybB5eOQJ+YNws/HqjceCJZ2uczfNn5DkLHLRr/wq6xsXwQ6DLsi5udrXxGxqGGxLbPFtLe8w8QQdOK2FHts8gF8L3McMpGddpsCTwvw481rHEwZR0mi8ItVh+Nxzdl7d7Pqm7Tl46rJkxFjDZ/V79R6rRVYdyuV9jMRY8FbFJ2JGuPK+foshXTT2KhERSAiIgPlEXnUyFrHuGrWEjyF1VuyuD1XlJUMb2nsb4uA+aqFTjDJbdIHt5t1a4cu5Z0dfTNaLDdt9265PORb0N+izeHEYP50X4x+q1GP4s3db0Msbjc7wDmkW7/ivtmIQkdVw+XzC9o914O7Y+YCrKtnVk0SqeV3sUp+INjbd13DeI6oubW1yzX3S4hSl3tZHtDtLAtz+9lde1ZDSsAvu5kcb3uWgDK/F7fVUHanaqlY6PcbIWg5loAtlcWBOa4oKV9NTeVranR4IqV+Zla09xDifN4JWbFh9PwfveDgPkAubUuKxAMcTI0HrZsdcaagDJZH+Z6W+VTEPFwHzVlVa+kjJ7nR/qEJ5+Rt8tV5zYNCRrION7/rkqjhe0tNvi1ZAON+kAtlpqrTVbVUXQO/19MXFhb/ABmkkkeKlVlzEhwfDOdbRYbPFUnoad8zBY3aR45ZALBqax9M0SVMclO0n3i1xP8ASwk+dlYcR2jput/qmPF/du7+aPd8QqVjFqppbFvuuALuaWjIW4i/wWa9b1VkXfpWhtKXaiieQ0S3c45Dcdc/BWXDsWpo2Hekc25vbo5bN6jxmQ3LNwXGqXCJopWl7bhruGd1faGvkya18jMsmm4+BVsRSjGyi7orTm3uXiXa2idvbkr5bON9yKZwF3vsLhn3/iq7im0MJaxrI6l2ZP8ABe33Ix7wHFpXhNiUosOq7ndjT+Sz6CsD7B8UJAcB2bavYDoeRWCglr8/RpmZWo43TvPsHNadd8gHyAJW2k2ZjDWk77WgDiDfxa4Dw8lesAp6eVzAaWEEMLiRvZ9SM37X3nfBa/a90dO72UcTLN13bnO/MlbKolsZ5dSmybEU8l3AtAtbdc3K/A5G58lrazYSBpd1WdXLd3njgDwGufFYuNbQ1F93p3gW0b1fkrTsXtRTU1O2GeJweXOcZR1i4k3u7O+Wi3UppXzWK2i3ax47JY87D2CnNI+WFjiQ5oO+N43N3bo3rcDllYK1VOKwVFi0SsyvuyBzT6uH5rNosawyS289rieJFh6LYOqKQj2bog3TII7SX/Q24KzJSA8L+O7+q+Y6McLjwB/JWro4XDIsNs7j/pejcLYQHGM68WDPv7Kp0E+S3UaNPhtLuuDrF9rHMGy2GKUrJHtJaWDcAuXZ5HLK5tqcu8rJljijFg98duDXEX8lqal9NYmZ5FuNzvHnpp5qOiovRoZ7lD+kjC6emhE1POXO32xmHtDdOQcH+6RpYk37ltNlfpEpXtZHVRNgkDWs6VrQWuDRugaXYLDut6rFlbHXSyxOie+EtcWvcLZ3G64AG5IGardRsm+NxLS+18vZG3rdaRqXWqsyrjZncKOWmnAczckB0zDvzWQ7DobCzQwXvl1b/K64u2GeNrdwlhHFpLSrTg+N1jdXyPaM93tHLfJy45NaP6wojX09USXT7MvTMNDHtkjdYtJIuN4aW8efFZjMTmb/ABImvH2mGx/Cf1C1FBiznCz25g2JHcbEWFuIfx91bJ8hDQ4WzF7EEEX55n5q8MRTS9LsUlTfJsqTE4pDYO3XH3HDdPfa+vldZip78TAcS6MO7hYX5XJJW+wGpkliL5AG3eQ0Ak2aABmSBc3vwXXRrqo7GU6eXU2SIi6DI+V8zRhzS03s4EZd4X0iq1dArkuzAvdsnkR+YXnNs48ggFhv3kW+Cs9ksuOWCpvg2VeSKjHs1K3i31/ZbeioHxgA5nndbeyiyr5KC7kuvJlPrNk3yW67W2tz4GM8vufFUHaf6Lg2Mv8ArD3EWyEdxkLZ5rt26vGaAFaQw0YbESquW5yKmi0sQ45C/E+a9nYJC7WNvoujVGCU7zd0TQ4+83qn4Lwds9FwdIPO/wAwuSeFnfQ2jWjyUmkwSAWO43LgWtP5LftipWxkOiY0BvabG3eWzGzzQcpH+FgvipwE7jgHk5HVt+His/K1eUX6sCq1BpC0lolsebWAXyNsj3n0WlnZFfJh8z+yyHROp7sJLutxHdyXmS15zFj3KuVRJzXNVW0TX3aW9oWJBz9Sop8JYwbo3yAOJvZbqKmaefNZ9HRsPae5vkjkiCsf4cLZF47g4iyy6KEtOTpNftuPH9/grrS7P07hfppCeW6P0WPPgcMekjyQb6DxR2sDFgY6aJsUe/HIf9wOIJ6oJz4C1lzzGMNfBVhtS2Z7CxzgekJDiCBcZ52vouhMkMdiy53f0A+S8qfB3V75HSyOG42zDYG19clajF5rITatdnOhh9M89qzuAcLW8tF4z4TUNN2RiVvAscL+iv8AL9HkwddrmPHofQrJj2ZqIwB0RIHKx5rWSlHgomnyUKhp5oyHPp5xnpuE/JWXDnF43dya5OQ6J/PnZWaGgmbYGN+Xcebf0W1wtkgkBIe0Bo5jiVhLV7F1oa2KncBctcxvG4Lct4c/BbSkxE2IdOC3h1swN1otqs3FC5zbDed3WJVZmwWZ5yiPjayoqcuC2ZcmbjWIwBoc+eMcLlwy5C6r1XiNNK3cZK15It1c/HRe2JbBvnYGyua1u/vWGZWywnYSlhFrPcee8uiOGna6MnUiYGExNiFmPc2w5AnRp5j7XwW+p6Nj2k9NJfvZfmft9yzo9mIr5F4/tv8A8hZ8GCNaO0708e/vTo1lsT1IMrmJYeAzUO11aATa4OZvyWtp4Ojb1A1o55n43V5fhDSLFxIz4czfj4r4jwSAe6XdxOXwRUK7HUgVmPCK6X2sVTCGuHZkgLj7wN3Nc3i5+ltVYIqCrc200lMT92N4y46vNluYoQGgAAACwHJem6utYWDWqMHVd9zQ/wCBg5vfnxDW2+ZW6o4msYGtFgP1zK9OjC+gLLajQjTd4opOpKW5KIi3KHypRFUBERAEREAUEKUQHzuKCxfaKLA+NxTur6RMpNzV4jhsUp9pG13fbP1Wpl2WpzoHN81aSLr4MIVJUoy3RZTa2KiNk2DsyO816RbNW/3L+StBgQQrJ4Wn2LdWRp6bBi0dpRPgu9q+3gt61qhzFHlafYdWRW49nYh2i53nZbKmo2MFmNDR3LJcMgeaymtA0WsKMY7Iq5t7mEISeCFtlnrykhvmtMpU8Wr1jK+OgKCIqLC56uWO/XRZAavqyixJguYTwUtiPJZpCbqmxBIam6vpFeyII3UspRLIBERSAiIgCIiAhERVAREQBERAEREAREQBERSAiIEAREQBCiIDwe3qeC9YzkF8+75KYNEB9oilAQiKUARQpQEKURAERFICIiAKFKhASiIgCIiA/9k=\" width=\"600px\" height=\"400px\" />\n",
    "\n",
    "**Resumen.**\n",
    "> Este examen pretende evaluar los conocimientos que hemos adquirido a lo largo de los dos primeros módulos.\n",
    "\n",
    "> El examen consta de dos partes. \n",
    "1. La primera es meramente teórica, y los cálculos que puede llegar a involucrar son bastante sencillos. En esta parte, las preguntas son de selección múltiple con justificación, es decir, debes elegir la(s) respuesta(s) correcta(s) y decir porqué la seleccionaste.\n",
    "2. La segunda parte es práctica, como lo que se ha venido haciendo en las tareas. En esta parte deberás importar un archivo donde se encuentran reportados los precios ajustados en el cierre de cuatro índices en una base mensual, deberás caracterizar los rendimientos y con base en ello construir fronteras media-varianza bajo ciertas condiciones. Finalmente deberás concluir de los resultados.\n",
    "\n",
    "**Criterio de revisión.**\n",
    "> Primera parte: tiene un valor del 50% del examen. Habrá una pregunta de alguna demostración hecha en clase o dejada de tarea. También habrán preguntas tipo quiz con justificación. Si la pregunta corresponde a un cálculo numérico, la justificación es en sí las operaciones resueltas para obtener el resultado en el notebook.\n",
    "\n",
    "> Segunda parte: tiene un valor del 50% del examen. Se te calificará de acuerdo a los resultados finales que reportes, basados en tu análisis.\n",
    "\n",
    "**Antes de comenzar.**\n",
    "> Por favor, nombrar este archivo *Examen1_ApellidoNombre*, sin acentos y sin espacios; por ejemplo, en mi caso el archivo se llamaría *Examen1_JimenezEsteban*. Resolver todos los puntos en dicho archivo y subir a moodle.\n",
    "___"
   ]
  },
  {
   "cell_type": "markdown",
   "metadata": {},
   "source": [
    "## I. Primera parte (50%)"
   ]
  },
  {
   "cell_type": "markdown",
   "metadata": {},
   "source": [
    "**Pregunta 1.** Demuestre que la varianza de un portafolio compuesto por $n$ activos es\n",
    "\n",
    "$$\n",
    "\\sigma_p^{2} = \\sum_{i=1}^{n}\\sum_{k=1}^{n} w_i w_k \\sigma_{ik}\n",
    "$$\n",
    "\n",
    "donde $w_i$ es la ponderación del activo $i\\in\\{1, 2, \\dots, n\\}$ en el portafolio, y $\\sigma_{ik}$ es la covarianza entre los activos $i$ y $k$.\n",
    "\n",
    "La demostración se puede hacer usando código $\\LaTeX$ directamente en las celdas tipo markdown. Alternativamente, se puede hacer en papel e insertar la imagen en el notebook (recuerde que para esto último es necesario subir un archivo comprimido con el notebook y la imagen).\n",
    "\n",
    "Es importante para la demostración que todo esté perfectamente justificado paso por paso, y no se aceptan pasos \"mágicos\" sin justificación."
   ]
  },
  {
   "cell_type": "markdown",
   "metadata": {},
   "source": [
    "## **Demostración:**\n",
    "\n",
    "Tomando en cuenta que la varianza y covarianza es igual a:\n",
    "\n",
    "$$\\sigma_r^2=E[(r_p-E[r_p])^2].$$\n",
    "$$\\sigma_{ik}^2=E[(r_k-E[r_k])(r_i-E[r_i])].$$\n",
    "\n",
    "Tomando en cuenta que r_p es un promedio ponderado de los rendimientos:\n",
    "\n",
    "$$r_p=\\sum_{i=1}^{m}w_ir_i,$$\n",
    "\n",
    "Y que entonces:\n",
    "\n",
    "$$E[r_p]=\\sum_{i=1}^{m}w_iE[r_i],$$\n",
    "\n",
    "Tenemos que:\n",
    "\n",
    "$$\\sigma_r^2=E[(\\sum_{i=1}^{m}w_ir_i-\\sum_{i=1}^{m}w_iE[r_i])^2].$$\n",
    "\n",
    "Simplificando:\n",
    "\n",
    "$$\\sigma_r^2=E[(\\sum_{i=1}^{m}w_i(r_i-E[r_i]))^2].$$\n",
    "\n",
    "Si sabemos que:\n",
    "\n",
    "$$(\\sum_{j=1}^{m}a_j)^2 = (\\sum_{j=1}^{m}a_j)(\\sum_{j=1}^{m}a_j) = (a_1 + a_2 + ... + a_m)(a_1 + a_2 + ... + a_m) = \\sum_{k=1}^{m}\\sum_{j=1}^{m}a_ka_j$$\n",
    "\n",
    "Tenemos que:\n",
    "\n",
    "$$\\sigma_r^2=E[\\sum_{k=1}^{m}\\sum_{i=1}^{m}w_kw_i(r_k-E[r_k])(r_i-E[r_i])]=\\sum_{k=1}^{m}\\sum_{i=1}^{m}w_kw_iE[(r_k-E[r_k])(r_i-E[r_i])].$$\n",
    "\n",
    "Tomando en cuenta la covarianza, tenemos que:\n",
    "\n",
    "$$\\sigma_r^2=\\sum_{k=1}^{m}\\sum_{i=1}^{m}w_kw_i\\sigma_{ik}.$$"
   ]
  },
  {
   "cell_type": "markdown",
   "metadata": {},
   "source": [
    "*Demostración* (30%):"
   ]
  },
  {
   "cell_type": "markdown",
   "metadata": {},
   "source": [
    "**Pregunta 2.** Considere la siguiente distribución de rendimientos de los activos A, B y C:\n",
    "\n",
    "| Probabilidad     | Rendimiento A       | Rendimiento B         | Rendimiento C         |\n",
    "| ---------------- | ------------------  | -------------------   | ------------------    |\n",
    "| 30%              | 0.10                | 0.03                  | 0.08                  |\n",
    "| 30%              | 0.20                | 0.15                  | -0.13                 |\n",
    "| 40%              | -0.15               | -0.10                 | 0.02                  |\n",
    "\n",
    "\n",
    "¿Cuál es la el rendimiento esperado y la volatilidad de un portafolio compuesto 20% por el activo A, 20% por el activo B y 60% por el activo C?\n",
    "\n",
    "A. $E[r_P]$ = 4.6%, $\\sigma_P$ = 4.71%\n",
    "\n",
    "B. $E[r_P]$ = 0.46%, $\\sigma_P$ = 4.71%\n",
    "\n",
    "C. $E[r_P]$ = 6.4%, $\\sigma_P$ = 7.41%\n",
    "\n",
    "D. $E[r_P]$ = 0.64%, $\\sigma_P$ = 1.47%"
   ]
  },
  {
   "cell_type": "markdown",
   "metadata": {},
   "source": [
    "La respuesta correcta es (5%):"
   ]
  },
  {
   "cell_type": "code",
   "execution_count": 3,
   "metadata": {},
   "outputs": [],
   "source": [
    "# La justificación a esta pregunta son los cálculos necesarios para llegar al resultado (5%)\n"
   ]
  },
  {
   "cell_type": "markdown",
   "metadata": {},
   "source": [
    "**Pregunta 3.** ¿Cuál de las siguientes proposiciones es correcta?\n",
    "\n",
    "A. Un portafolio bien diversificado elimina el riesgo sistemático o de mercado.\n",
    "\n",
    "B. Un portafolio bien diversificado elimina el riesgo idiosincrático o no sistemático.\n",
    "\n",
    "C. Tanto el riesgo sistemático como el idiosincrático pueden ser eliminados a través de diversificación.\n",
    "\n",
    "D. Una recesión económica es un ejemplo de riesgo idiosincrático."
   ]
  },
  {
   "cell_type": "markdown",
   "metadata": {},
   "source": [
    "La respuesta correcta es (5%):"
   ]
  },
  {
   "cell_type": "markdown",
   "metadata": {},
   "source": [
    "Justificación (5%):"
   ]
  },
  {
   "cell_type": "markdown",
   "metadata": {},
   "source": [
    "**Opción B**\n",
    "\n",
    "El riesgo idiosincrático es propio de una empresa, por lo tanto, al diversificar e invertir en varias empresas, eliminas la posibilidad de recaer en el riesgo individual de una sola empresa."
   ]
  },
  {
   "cell_type": "markdown",
   "metadata": {},
   "source": [
    "___\n",
    "## II. Segunda parte (50%)\n",
    "\n",
    "En lo que llevamos del curso hemos hablado que la teoría de portafolios moderna tiene que ver con un concepto base principal: **la diversificación**.\n",
    "\n",
    "Hemos visto que la diversificación nos ayuda a reducir el riesgo idiosincrático. Sin embargo, también estudiamos que el riesgo puede ser tanto de perder como de ganar, entonces bajo este enfoque no podemos esperar rendimientos exhorbitantes. Por otra parte, sin importar los movimientos del mercado, la diversificación nos ayudará a tener éxito en el largo plazo.\n",
    "\n",
    "David Swensen, en su libro Unconventional Success, nos provee una estructura de portafolio diversificado con base en diversos sectores. Entre los sectores se incluyen:\n",
    "- Acciones de EEUU,\n",
    "- Economías desarrolladas,\n",
    "- Economías en desarrollo,\n",
    "- Bienes raíces,\n",
    "- Entre otros.\n",
    "\n",
    "Para los anteriores sectores, podemos encontrar ETF's (Exchange Traded Fund) emitidos por la administradora Vanguard:\n",
    "- Acciones de EEUU: Vanguard S&P 500 ETF (VOO).\n",
    "- Economías desarrolladas: Vanguard FTSE Developed Markets Index Fund ETF Shares (VEA).\n",
    "- Economías en desarrollo: Vanguard FTSE Emerging Markets Index Fund ETF Shares (VWO).\n",
    "- Bienes raíces: Vanguard Real Estate Index Fund ETF Shares (VNQ)."
   ]
  },
  {
   "cell_type": "markdown",
   "metadata": {},
   "source": [
    "**Punto 1 (10%).** En el archivo `prices_data.csv` se encuentran reportados los **precios mensuales ajustados en el cierre** de los ETF VOO, VEA, VWO, y VNQ, en dólares, desde inicios del 2011 hasta el úlimo mes reportado.\n",
    "\n",
    "1. Importar los **precios** de los ETF en un **DataFrame indizado por fecha** (5%): \n",
    " - Mostrar la gráfica de estos precios.\n",
    " - Obtener un DataFrame con los **rendimientos porcentuales mensuales** para estos activos. Mostrar la gráfica de rendimientos.\n",
    " \n",
    "2. Reportar en un **DataFrame el rendimiento esperado mensual y la volatilidad mensual** para cada uno de estos activos. Calcular las matrices de varianza-covarianza (**base mensual**) y de correlación (**base mensual**) para estos activos (5%)."
   ]
  },
  {
   "cell_type": "code",
   "execution_count": 5,
   "metadata": {},
   "outputs": [
    {
     "data": {
      "text/html": [
       "<div>\n",
       "<style scoped>\n",
       "    .dataframe tbody tr th:only-of-type {\n",
       "        vertical-align: middle;\n",
       "    }\n",
       "\n",
       "    .dataframe tbody tr th {\n",
       "        vertical-align: top;\n",
       "    }\n",
       "\n",
       "    .dataframe thead th {\n",
       "        text-align: right;\n",
       "    }\n",
       "</style>\n",
       "<table border=\"1\" class=\"dataframe\">\n",
       "  <thead>\n",
       "    <tr style=\"text-align: right;\">\n",
       "      <th></th>\n",
       "      <th>VEA</th>\n",
       "      <th>VNQ</th>\n",
       "      <th>VOO</th>\n",
       "      <th>VWO</th>\n",
       "    </tr>\n",
       "    <tr>\n",
       "      <th>Date</th>\n",
       "      <th></th>\n",
       "      <th></th>\n",
       "      <th></th>\n",
       "      <th></th>\n",
       "    </tr>\n",
       "  </thead>\n",
       "  <tbody>\n",
       "    <tr>\n",
       "      <th>2015-01-01 00:00:00-05:00</th>\n",
       "      <td>30.158600</td>\n",
       "      <td>63.075104</td>\n",
       "      <td>157.614914</td>\n",
       "      <td>31.823935</td>\n",
       "    </tr>\n",
       "    <tr>\n",
       "      <th>2015-02-01 00:00:00-05:00</th>\n",
       "      <td>32.016331</td>\n",
       "      <td>60.757591</td>\n",
       "      <td>166.409073</td>\n",
       "      <td>33.305965</td>\n",
       "    </tr>\n",
       "    <tr>\n",
       "      <th>2015-03-01 00:00:00-05:00</th>\n",
       "      <td>31.486685</td>\n",
       "      <td>61.442638</td>\n",
       "      <td>162.963745</td>\n",
       "      <td>32.564945</td>\n",
       "    </tr>\n",
       "    <tr>\n",
       "      <th>2015-04-01 00:00:00-04:00</th>\n",
       "      <td>32.849079</td>\n",
       "      <td>58.195553</td>\n",
       "      <td>165.440079</td>\n",
       "      <td>35.039909</td>\n",
       "    </tr>\n",
       "    <tr>\n",
       "      <th>2015-05-01 00:00:00-04:00</th>\n",
       "      <td>32.833199</td>\n",
       "      <td>58.019608</td>\n",
       "      <td>167.509186</td>\n",
       "      <td>33.794765</td>\n",
       "    </tr>\n",
       "    <tr>\n",
       "      <th>...</th>\n",
       "      <td>...</td>\n",
       "      <td>...</td>\n",
       "      <td>...</td>\n",
       "      <td>...</td>\n",
       "    </tr>\n",
       "    <tr>\n",
       "      <th>2022-11-01 00:00:00-04:00</th>\n",
       "      <td>42.906429</td>\n",
       "      <td>86.852455</td>\n",
       "      <td>372.705139</td>\n",
       "      <td>39.868771</td>\n",
       "    </tr>\n",
       "    <tr>\n",
       "      <th>2022-12-01 00:00:00-05:00</th>\n",
       "      <td>41.483135</td>\n",
       "      <td>81.330498</td>\n",
       "      <td>349.665466</td>\n",
       "      <td>38.353519</td>\n",
       "    </tr>\n",
       "    <tr>\n",
       "      <th>2023-01-01 00:00:00-05:00</th>\n",
       "      <td>45.759998</td>\n",
       "      <td>91.059998</td>\n",
       "      <td>373.440002</td>\n",
       "      <td>42.230000</td>\n",
       "    </tr>\n",
       "    <tr>\n",
       "      <th>2023-02-01 00:00:00-05:00</th>\n",
       "      <td>44.169998</td>\n",
       "      <td>85.720001</td>\n",
       "      <td>364.109985</td>\n",
       "      <td>39.419998</td>\n",
       "    </tr>\n",
       "    <tr>\n",
       "      <th>2023-03-01 00:00:00-05:00</th>\n",
       "      <td>44.450001</td>\n",
       "      <td>84.639999</td>\n",
       "      <td>362.779999</td>\n",
       "      <td>40.209999</td>\n",
       "    </tr>\n",
       "  </tbody>\n",
       "</table>\n",
       "<p>99 rows × 4 columns</p>\n",
       "</div>"
      ],
      "text/plain": [
       "                                 VEA        VNQ         VOO        VWO\n",
       "Date                                                                  \n",
       "2015-01-01 00:00:00-05:00  30.158600  63.075104  157.614914  31.823935\n",
       "2015-02-01 00:00:00-05:00  32.016331  60.757591  166.409073  33.305965\n",
       "2015-03-01 00:00:00-05:00  31.486685  61.442638  162.963745  32.564945\n",
       "2015-04-01 00:00:00-04:00  32.849079  58.195553  165.440079  35.039909\n",
       "2015-05-01 00:00:00-04:00  32.833199  58.019608  167.509186  33.794765\n",
       "...                              ...        ...         ...        ...\n",
       "2022-11-01 00:00:00-04:00  42.906429  86.852455  372.705139  39.868771\n",
       "2022-12-01 00:00:00-05:00  41.483135  81.330498  349.665466  38.353519\n",
       "2023-01-01 00:00:00-05:00  45.759998  91.059998  373.440002  42.230000\n",
       "2023-02-01 00:00:00-05:00  44.169998  85.720001  364.109985  39.419998\n",
       "2023-03-01 00:00:00-05:00  44.450001  84.639999  362.779999  40.209999\n",
       "\n",
       "[99 rows x 4 columns]"
      ]
     },
     "execution_count": 5,
     "metadata": {},
     "output_type": "execute_result"
    },
    {
     "data": {
      "image/png": "[encoded data removed]",
      "text/plain": [
       "<Figure size 432x288 with 1 Axes>"
      ]
     },
     "metadata": {
      "needs_background": "light"
     },
     "output_type": "display_data"
    }
   ],
   "source": [
    "import pandas as pd\n",
    "data = pd.read_csv(\"prices_data.csv\", index_col=[\"Date\"])\n",
    "\n",
    "data.plot()\n",
    "data"
   ]
  },
  {
   "cell_type": "code",
   "execution_count": 6,
   "metadata": {},
   "outputs": [
    {
     "data": {
      "text/html": [
       "<div>\n",
       "<style scoped>\n",
       "    .dataframe tbody tr th:only-of-type {\n",
       "        vertical-align: middle;\n",
       "    }\n",
       "\n",
       "    .dataframe tbody tr th {\n",
       "        vertical-align: top;\n",
       "    }\n",
       "\n",
       "    .dataframe thead th {\n",
       "        text-align: right;\n",
       "    }\n",
       "</style>\n",
       "<table border=\"1\" class=\"dataframe\">\n",
       "  <thead>\n",
       "    <tr style=\"text-align: right;\">\n",
       "      <th></th>\n",
       "      <th>VEA</th>\n",
       "      <th>VNQ</th>\n",
       "      <th>VOO</th>\n",
       "      <th>VWO</th>\n",
       "    </tr>\n",
       "    <tr>\n",
       "      <th>Date</th>\n",
       "      <th></th>\n",
       "      <th></th>\n",
       "      <th></th>\n",
       "      <th></th>\n",
       "    </tr>\n",
       "  </thead>\n",
       "  <tbody>\n",
       "    <tr>\n",
       "      <th>2015-02-01 00:00:00-05:00</th>\n",
       "      <td>0.061599</td>\n",
       "      <td>-0.036742</td>\n",
       "      <td>0.055795</td>\n",
       "      <td>0.046570</td>\n",
       "    </tr>\n",
       "    <tr>\n",
       "      <th>2015-03-01 00:00:00-05:00</th>\n",
       "      <td>-0.016543</td>\n",
       "      <td>0.011275</td>\n",
       "      <td>-0.020704</td>\n",
       "      <td>-0.022249</td>\n",
       "    </tr>\n",
       "    <tr>\n",
       "      <th>2015-04-01 00:00:00-04:00</th>\n",
       "      <td>0.043269</td>\n",
       "      <td>-0.052847</td>\n",
       "      <td>0.015196</td>\n",
       "      <td>0.076001</td>\n",
       "    </tr>\n",
       "    <tr>\n",
       "      <th>2015-05-01 00:00:00-04:00</th>\n",
       "      <td>-0.000483</td>\n",
       "      <td>-0.003023</td>\n",
       "      <td>0.012507</td>\n",
       "      <td>-0.035535</td>\n",
       "    </tr>\n",
       "    <tr>\n",
       "      <th>2015-06-01 00:00:00-04:00</th>\n",
       "      <td>-0.041113</td>\n",
       "      <td>-0.056230</td>\n",
       "      <td>-0.024032</td>\n",
       "      <td>-0.034483</td>\n",
       "    </tr>\n",
       "    <tr>\n",
       "      <th>...</th>\n",
       "      <td>...</td>\n",
       "      <td>...</td>\n",
       "      <td>...</td>\n",
       "      <td>...</td>\n",
       "    </tr>\n",
       "    <tr>\n",
       "      <th>2022-11-01 00:00:00-04:00</th>\n",
       "      <td>0.125486</td>\n",
       "      <td>0.061461</td>\n",
       "      <td>0.055050</td>\n",
       "      <td>0.143018</td>\n",
       "    </tr>\n",
       "    <tr>\n",
       "      <th>2022-12-01 00:00:00-05:00</th>\n",
       "      <td>-0.033172</td>\n",
       "      <td>-0.063579</td>\n",
       "      <td>-0.061817</td>\n",
       "      <td>-0.038006</td>\n",
       "    </tr>\n",
       "    <tr>\n",
       "      <th>2023-01-01 00:00:00-05:00</th>\n",
       "      <td>0.103099</td>\n",
       "      <td>0.119629</td>\n",
       "      <td>0.067992</td>\n",
       "      <td>0.101072</td>\n",
       "    </tr>\n",
       "    <tr>\n",
       "      <th>2023-02-01 00:00:00-05:00</th>\n",
       "      <td>-0.034747</td>\n",
       "      <td>-0.058643</td>\n",
       "      <td>-0.024984</td>\n",
       "      <td>-0.066540</td>\n",
       "    </tr>\n",
       "    <tr>\n",
       "      <th>2023-03-01 00:00:00-05:00</th>\n",
       "      <td>0.006339</td>\n",
       "      <td>-0.012599</td>\n",
       "      <td>-0.003653</td>\n",
       "      <td>0.020041</td>\n",
       "    </tr>\n",
       "  </tbody>\n",
       "</table>\n",
       "<p>98 rows × 4 columns</p>\n",
       "</div>"
      ],
      "text/plain": [
       "                                VEA       VNQ       VOO       VWO\n",
       "Date                                                             \n",
       "2015-02-01 00:00:00-05:00  0.061599 -0.036742  0.055795  0.046570\n",
       "2015-03-01 00:00:00-05:00 -0.016543  0.011275 -0.020704 -0.022249\n",
       "2015-04-01 00:00:00-04:00  0.043269 -0.052847  0.015196  0.076001\n",
       "2015-05-01 00:00:00-04:00 -0.000483 -0.003023  0.012507 -0.035535\n",
       "2015-06-01 00:00:00-04:00 -0.041113 -0.056230 -0.024032 -0.034483\n",
       "...                             ...       ...       ...       ...\n",
       "2022-11-01 00:00:00-04:00  0.125486  0.061461  0.055050  0.143018\n",
       "2022-12-01 00:00:00-05:00 -0.033172 -0.063579 -0.061817 -0.038006\n",
       "2023-01-01 00:00:00-05:00  0.103099  0.119629  0.067992  0.101072\n",
       "2023-02-01 00:00:00-05:00 -0.034747 -0.058643 -0.024984 -0.066540\n",
       "2023-03-01 00:00:00-05:00  0.006339 -0.012599 -0.003653  0.020041\n",
       "\n",
       "[98 rows x 4 columns]"
      ]
     },
     "execution_count": 6,
     "metadata": {},
     "output_type": "execute_result"
    },
    {
     "data": {
      "image/png": "[encoded data removed]",
      "text/plain": [
       "<Figure size 432x288 with 1 Axes>"
      ]
     },
     "metadata": {
      "needs_background": "light"
     },
     "output_type": "display_data"
    }
   ],
   "source": [
    "ret = data.pct_change().dropna()\n",
    "ret.plot()\n",
    "ret"
   ]
  },
  {
   "cell_type": "code",
   "execution_count": 7,
   "metadata": {},
   "outputs": [
    {
     "data": {
      "text/html": [
       "<div>\n",
       "<style scoped>\n",
       "    .dataframe tbody tr th:only-of-type {\n",
       "        vertical-align: middle;\n",
       "    }\n",
       "\n",
       "    .dataframe tbody tr th {\n",
       "        vertical-align: top;\n",
       "    }\n",
       "\n",
       "    .dataframe thead th {\n",
       "        text-align: right;\n",
       "    }\n",
       "</style>\n",
       "<table border=\"1\" class=\"dataframe\">\n",
       "  <thead>\n",
       "    <tr style=\"text-align: right;\">\n",
       "      <th></th>\n",
       "      <th>VEA</th>\n",
       "      <th>VNQ</th>\n",
       "      <th>VOO</th>\n",
       "      <th>VWO</th>\n",
       "    </tr>\n",
       "  </thead>\n",
       "  <tbody>\n",
       "    <tr>\n",
       "      <th>Rendimiento m</th>\n",
       "      <td>0.005112</td>\n",
       "      <td>0.004414</td>\n",
       "      <td>0.009635</td>\n",
       "      <td>0.003692</td>\n",
       "    </tr>\n",
       "    <tr>\n",
       "      <th>Volatilidad</th>\n",
       "      <td>0.047982</td>\n",
       "      <td>0.052834</td>\n",
       "      <td>0.046884</td>\n",
       "      <td>0.051240</td>\n",
       "    </tr>\n",
       "  </tbody>\n",
       "</table>\n",
       "</div>"
      ],
      "text/plain": [
       "                    VEA       VNQ       VOO       VWO\n",
       "Rendimiento m  0.005112  0.004414  0.009635  0.003692\n",
       "Volatilidad    0.047982  0.052834  0.046884  0.051240"
      ]
     },
     "execution_count": 7,
     "metadata": {},
     "output_type": "execute_result"
    }
   ],
   "source": [
    "datam = pd.DataFrame({\"Rendimiento m\": ret.mean(), \"Volatilidad\": ret.std()}).T\n",
    "datam"
   ]
  },
  {
   "cell_type": "code",
   "execution_count": 8,
   "metadata": {},
   "outputs": [
    {
     "data": {
      "text/html": [
       "<div>\n",
       "<style scoped>\n",
       "    .dataframe tbody tr th:only-of-type {\n",
       "        vertical-align: middle;\n",
       "    }\n",
       "\n",
       "    .dataframe tbody tr th {\n",
       "        vertical-align: top;\n",
       "    }\n",
       "\n",
       "    .dataframe thead th {\n",
       "        text-align: right;\n",
       "    }\n",
       "</style>\n",
       "<table border=\"1\" class=\"dataframe\">\n",
       "  <thead>\n",
       "    <tr style=\"text-align: right;\">\n",
       "      <th></th>\n",
       "      <th>VEA</th>\n",
       "      <th>VNQ</th>\n",
       "      <th>VOO</th>\n",
       "      <th>VWO</th>\n",
       "    </tr>\n",
       "  </thead>\n",
       "  <tbody>\n",
       "    <tr>\n",
       "      <th>VEA</th>\n",
       "      <td>0.002302</td>\n",
       "      <td>0.001819</td>\n",
       "      <td>0.002017</td>\n",
       "      <td>0.002020</td>\n",
       "    </tr>\n",
       "    <tr>\n",
       "      <th>VNQ</th>\n",
       "      <td>0.001819</td>\n",
       "      <td>0.002791</td>\n",
       "      <td>0.001960</td>\n",
       "      <td>0.001540</td>\n",
       "    </tr>\n",
       "    <tr>\n",
       "      <th>VOO</th>\n",
       "      <td>0.002017</td>\n",
       "      <td>0.001960</td>\n",
       "      <td>0.002198</td>\n",
       "      <td>0.001687</td>\n",
       "    </tr>\n",
       "    <tr>\n",
       "      <th>VWO</th>\n",
       "      <td>0.002020</td>\n",
       "      <td>0.001540</td>\n",
       "      <td>0.001687</td>\n",
       "      <td>0.002626</td>\n",
       "    </tr>\n",
       "  </tbody>\n",
       "</table>\n",
       "</div>"
      ],
      "text/plain": [
       "          VEA       VNQ       VOO       VWO\n",
       "VEA  0.002302  0.001819  0.002017  0.002020\n",
       "VNQ  0.001819  0.002791  0.001960  0.001540\n",
       "VOO  0.002017  0.001960  0.002198  0.001687\n",
       "VWO  0.002020  0.001540  0.001687  0.002626"
      ]
     },
     "execution_count": 8,
     "metadata": {},
     "output_type": "execute_result"
    }
   ],
   "source": [
    "covt = pd.DataFrame.cov(ret)\n",
    "covt"
   ]
  },
  {
   "cell_type": "code",
   "execution_count": 9,
   "metadata": {},
   "outputs": [
    {
     "data": {
      "text/html": [
       "<div>\n",
       "<style scoped>\n",
       "    .dataframe tbody tr th:only-of-type {\n",
       "        vertical-align: middle;\n",
       "    }\n",
       "\n",
       "    .dataframe tbody tr th {\n",
       "        vertical-align: top;\n",
       "    }\n",
       "\n",
       "    .dataframe thead th {\n",
       "        text-align: right;\n",
       "    }\n",
       "</style>\n",
       "<table border=\"1\" class=\"dataframe\">\n",
       "  <thead>\n",
       "    <tr style=\"text-align: right;\">\n",
       "      <th></th>\n",
       "      <th>VEA</th>\n",
       "      <th>VNQ</th>\n",
       "      <th>VOO</th>\n",
       "      <th>VWO</th>\n",
       "    </tr>\n",
       "  </thead>\n",
       "  <tbody>\n",
       "    <tr>\n",
       "      <th>VEA</th>\n",
       "      <td>1.000000</td>\n",
       "      <td>0.717385</td>\n",
       "      <td>0.896552</td>\n",
       "      <td>0.821499</td>\n",
       "    </tr>\n",
       "    <tr>\n",
       "      <th>VNQ</th>\n",
       "      <td>0.717385</td>\n",
       "      <td>1.000000</td>\n",
       "      <td>0.791415</td>\n",
       "      <td>0.568667</td>\n",
       "    </tr>\n",
       "    <tr>\n",
       "      <th>VOO</th>\n",
       "      <td>0.896552</td>\n",
       "      <td>0.791415</td>\n",
       "      <td>1.000000</td>\n",
       "      <td>0.702309</td>\n",
       "    </tr>\n",
       "    <tr>\n",
       "      <th>VWO</th>\n",
       "      <td>0.821499</td>\n",
       "      <td>0.568667</td>\n",
       "      <td>0.702309</td>\n",
       "      <td>1.000000</td>\n",
       "    </tr>\n",
       "  </tbody>\n",
       "</table>\n",
       "</div>"
      ],
      "text/plain": [
       "          VEA       VNQ       VOO       VWO\n",
       "VEA  1.000000  0.717385  0.896552  0.821499\n",
       "VNQ  0.717385  1.000000  0.791415  0.568667\n",
       "VOO  0.896552  0.791415  1.000000  0.702309\n",
       "VWO  0.821499  0.568667  0.702309  1.000000"
      ]
     },
     "execution_count": 9,
     "metadata": {},
     "output_type": "execute_result"
    }
   ],
   "source": [
    "corrt = pd.DataFrame.corr(ret)\n",
    "corrt"
   ]
  },
  {
   "cell_type": "markdown",
   "metadata": {},
   "source": [
    "**Punto 2 (25%).** Usando los datos del punto anterior:\n",
    "\n",
    "1. Construya la frontera de mínima varianza que representa las posibles combinaciones de portafolios que se pueden crear con los ETF. Reportar los **rendimientos esperados y las volatilidades de estos portafolios (base mensual) en un DataFrame** (15%).\n",
    "\n",
    "2. Encontrar los pesos del portafolio de mínima varianza. Reportar el **rendimiento esperado mensual y la volatilidad mensual del portafolio de mínima varianza** (10%).\n",
    "\n",
    "**Ayuda.** A veces, la tolerancia por defecto para el optimizador numérico `scipy.optimize.minimize` no se elige correctamente, y es necesario ajustarla manualmente. En este caso, se recomienda pasarle a la función minimize el argumento `tol=1e-10`."
   ]
  },
  {
   "cell_type": "code",
   "execution_count": null,
   "metadata": {},
   "outputs": [],
   "source": []
  },
  {
   "cell_type": "code",
   "execution_count": null,
   "metadata": {},
   "outputs": [],
   "source": []
  },
  {
   "cell_type": "code",
   "execution_count": null,
   "metadata": {},
   "outputs": [],
   "source": []
  },
  {
   "cell_type": "code",
   "execution_count": null,
   "metadata": {},
   "outputs": [],
   "source": []
  },
  {
   "cell_type": "code",
   "execution_count": null,
   "metadata": {},
   "outputs": [],
   "source": []
  },
  {
   "cell_type": "code",
   "execution_count": null,
   "metadata": {},
   "outputs": [],
   "source": []
  },
  {
   "cell_type": "code",
   "execution_count": null,
   "metadata": {},
   "outputs": [],
   "source": []
  },
  {
   "cell_type": "markdown",
   "metadata": {},
   "source": [
    "**Punto 3 (15%).** \n",
    "\n",
    "1. Usando sus respuestas para el punto anterior, **grafique la frontera de mínima varianza**, además de los puntos correspondientes a los ETF individuales, y del **portafolio de mínima varianza**, donde el eje $x$ es la volatilidad y el eje $y$ el rendimiento esperado. Asegúrese de etiquetar todo y poner distintos colores para diferenciar los distintos elementos en su gráfico (5%).\n",
    "2. Concluya acerca de la gráfica de la frontera de mínima varianza, y acerca de los pesos encontrados para el portafolio de mínima varianza (10%)."
   ]
  },
  {
   "cell_type": "code",
   "execution_count": null,
   "metadata": {},
   "outputs": [],
   "source": []
  },
  {
   "cell_type": "code",
   "execution_count": null,
   "metadata": {},
   "outputs": [],
   "source": []
  },
  {
   "cell_type": "code",
   "execution_count": null,
   "metadata": {},
   "outputs": [],
   "source": []
  },
  {
   "cell_type": "code",
   "execution_count": null,
   "metadata": {},
   "outputs": [],
   "source": []
  },
  {
   "cell_type": "code",
   "execution_count": null,
   "metadata": {},
   "outputs": [],
   "source": []
  },
  {
   "cell_type": "markdown",
   "metadata": {},
   "source": [
    "<script>\n",
    "  $(document).ready(function(){\n",
    "    $('div.prompt').hide();\n",
    "    $('div.back-to-top').hide();\n",
    "    $('nav#menubar').hide();\n",
    "    $('.breadcrumb').hide();\n",
    "    $('.hidden-print').hide();\n",
    "  });\n",
    "</script>\n",
    "\n",
    "<footer id=\"attribution\" style=\"float:right; color:#808080; background:#fff;\">\n",
    "Created with Jupyter by Esteban Jiménez Rodríguez.\n",
    "</footer>"
   ]
  }
 ],
 "metadata": {
  "kernelspec": {
   "display_name": "Python 3 (ipykernel)",
   "language": "python",
   "name": "python3"
  },
  "language_info": {
   "codemirror_mode": {
    "name": "ipython",
    "version": 3
   },
   "file_extension": ".py",
   "mimetype": "text/x-python",
   "name": "python",
   "nbconvert_exporter": "python",
   "pygments_lexer": "ipython3",
   "version": "3.9.7"
  }
 },
 "nbformat": 4,
 "nbformat_minor": 2
}
