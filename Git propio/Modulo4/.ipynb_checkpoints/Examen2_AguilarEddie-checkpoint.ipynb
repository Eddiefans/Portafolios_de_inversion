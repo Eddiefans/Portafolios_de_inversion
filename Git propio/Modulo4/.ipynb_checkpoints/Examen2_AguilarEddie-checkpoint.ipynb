{
 "cells": [
  {
   "cell_type": "markdown",
   "metadata": {},
   "source": [
    "# Examen 2 - Portafolios de inversión - P2023. Tipo 1.\n",
    "\n",
    "<img style=\"float: right; margin: 0px 0px 15px 15px;\" src=\"https://upload.wikimedia.org/wikipedia/commons/a/ac/Exchange_Financial_markets_Centrum_Pieniadza_NBP_AB.jpg\" width=\"600px\" height=\"400px\" />\n",
    "\n",
    "**Resumen.**\n",
    "> Este examen pretende evaluar los conocimientos que hemos adquirido a lo largo de los dos módulos finales.\n",
    "\n",
    "> El examen consta de dos partes. \n",
    "1. La primera es conceptual. Los cálculos que puede llegar a involucrar son bastante sencillos.\n",
    "2. La segunda parte es práctica, como lo que se ha venido haciendo en las tareas. En esta parte deberás importar un archivo donde se encuentran reportados los precios ajustados en el cierre de dos compañías en una base diaria, deberás caracterizar los rendimientos y con base en ello construir fronteras media-varianza bajo ciertas condiciones. Finalmente deberás concluir de los resultados.\n",
    "\n",
    "**Criterio de revisión.**\n",
    "> Primera parte: tiene un valor del 40% del examen.\n",
    "\n",
    "> Segunda parte: tiene un valor del 60% del examen. Se te calificará de acuerdo a los resultados finales que reportes, basados en tu análisis.\n",
    "\n",
    "**Antes de comenzar.**\n",
    "> Por favor, nombrar este archivo *Examen2_ApellidoNombre*, sin acentos y sin espacios; por ejemplo, en mi caso el archivo se llamaría *Examen2_JimenezEsteban*. Resolver todos los puntos en dicho archivo y subir a moodle.\n",
    "___"
   ]
  },
  {
   "cell_type": "markdown",
   "metadata": {},
   "source": [
    "## I. Primera parte (40 puntos)"
   ]
  },
  {
   "cell_type": "markdown",
   "metadata": {},
   "source": [
    "**Pregunta 1.** (10 puntos) Escriba la fórmula del CAPM, en una celda de Markdown en formato LaTeX, especificando qué es cada uno de los términos que compone la ecuación."
   ]
  },
  {
   "cell_type": "markdown",
   "metadata": {},
   "source": [
    "$$E[r_i]-r_f = \\beta_i(E[r_M]-r_f)$$\n",
    "\n",
    "Donde: \n",
    "\n",
    "- $E[r_i]$ es el rendimiento del activo i.\n",
    "- $\\beta_i$ es la beta del activo i.\n",
    "- $r_f$ es la tasa libre de riesgo.\n",
    "- $E[r_M]$ es el rendimiento del portafolio de mercado."
   ]
  },
  {
   "cell_type": "markdown",
   "metadata": {},
   "source": [
    "**Pregunta 2.** (10 puntos) Explique en un párrafo corto cuál es la principal implicación del CAPM, es decir, qué es lo que determina el rendimiento esperado de un activo."
   ]
  },
  {
   "cell_type": "markdown",
   "metadata": {},
   "source": [
    "CAPM comenta que no debe de haber premio por asumir riesgo que se puede diversificar. O sea que los rendimientos aumentarán a medida que el riesgo no diversificable también lo haga. Lo que mide este riesgo es el $\\beta$ (describe como se comporta el activo a comparación del mercado), por lo tanto, CAPM comenta que el premio al riesgo se basa únicamente en el $\\beta$"
   ]
  },
  {
   "cell_type": "markdown",
   "metadata": {},
   "source": [
    "**Pregunta 3.** (10 puntos) Una manera de medir la aversión al riesgo de un inversionista es comparando su equivalente de certerza. Los economistas definen el rendimiento equivalente de certeza $r_{CE}$ de un portafolio riesgoso, como el rendimieto seguro (libre de riesgo) que un inversionista aceptaría en lugar del portafolio riesgoso. Entonces, si un inversionista es más averso al riesgo, ¿esperaría que su $r_{CE}$ fuera mayor o menor?"
   ]
  },
  {
   "cell_type": "markdown",
   "metadata": {},
   "source": [
    "**La respuesta correcta es:**\n",
    "Entre más averso al riesgo, menor rendimiento libre de riesgo."
   ]
  },
  {
   "cell_type": "markdown",
   "metadata": {},
   "source": [
    "**Justificación:**\n",
    "Por simple lógica podemos entender esta premisa, alguien que quiera salir de una situación incómoda, será más susceptible a aceptar cualquier tipo de condición o trato para alejarse de dicha situación. En este caso, la aversión al riesgo hace que aceptes menos rendimiento a cambio de ya no depender de ese riesgo; en cambio, si no eres muy averso al riesgo, no hay tanta prisa por cambiar de contexto, y el rendimiento a aceptar será mayor. "
   ]
  },
  {
   "cell_type": "code",
   "execution_count": 17,
   "metadata": {},
   "outputs": [
    {
     "name": "stdout",
     "output_type": "stream",
     "text": [
      "Tasa libre de riesgo aceptada 0.1, coeficiente de aversión al riesgo de 1\n",
      "Tasa libre de riesgo aceptada 0.09, coeficiente de aversión al riesgo de 3\n",
      "Tasa libre de riesgo aceptada 0.07, coeficiente de aversión al riesgo de 5\n",
      "Tasa libre de riesgo aceptada 0.07, coeficiente de aversión al riesgo de 7\n",
      "Tasa libre de riesgo aceptada 0.05, coeficiente de aversión al riesgo de 9\n",
      "Tasa libre de riesgo aceptada 0.04, coeficiente de aversión al riesgo de 11\n"
     ]
    }
   ],
   "source": [
    "# Portafolio riesgoso con rendimiento esperado y volatilidad de 10%\n",
    "# y asignación del 50% del capital.\n",
    "for i in range(1, 12, 2):\n",
    "    rf = 0.1 - 0.5*i*(0.1**2)\n",
    "    print(\"Tasa libre de riesgo aceptada {}%, coeficiente de aversión al riesgo de {}\".format(round(rf, 2), i))"
   ]
  },
  {
   "cell_type": "markdown",
   "metadata": {},
   "source": [
    "**Pregunta 4.** (10 puntos) Un fondo de inversiones con $\\beta=0.8$ tiene un rendimiento esperado del $11.0644\\%$. Si la tasa libre de riesgo es $1.0456\\%$ y el rendimiento esperado del portafolio de mercado es del $13.5467\\%$, ¿debería invertir en este fondo?\n",
    "\n",
    "A. Si.\n",
    "\n",
    "B. No."
   ]
  },
  {
   "cell_type": "markdown",
   "metadata": {},
   "source": [
    "**La respuesta correcta es:**\n",
    "Si."
   ]
  },
  {
   "cell_type": "markdown",
   "metadata": {},
   "source": [
    "**Justificación:**\n",
    "El rendimiento real es mayor al rendimiento teórico (subvalorado)."
   ]
  },
  {
   "cell_type": "code",
   "execution_count": 3,
   "metadata": {},
   "outputs": [
    {
     "data": {
      "text/plain": [
       "(11.04648, 11.064400000000001)"
      ]
     },
     "execution_count": 3,
     "metadata": {},
     "output_type": "execute_result"
    }
   ],
   "source": [
    "b = 0.8\n",
    "eri = 0.110644\n",
    "rf = 0.010456\n",
    "erm = 0.135467\n",
    "\n",
    "ert = rf + b*(erm-rf)\n",
    "\n",
    "ert*100, eri*100"
   ]
  },
  {
   "cell_type": "markdown",
   "metadata": {},
   "source": [
    "___\n",
    "## II. Segunda parte (60 puntos)"
   ]
  },
  {
   "cell_type": "markdown",
   "metadata": {},
   "source": [
    "En el curso hemos hablado que la teoría de portafolios moderna tiene que ver con un concepto base principal: **la diversificación**.\n",
    "\n",
    "Hemos visto que la diversificación nos ayuda a reducir el riesgo idiosincrático. Sin embargo, también estudiamos que el riesgo puede ser tanto de perder como de ganar, entonces bajo este enfoque no podemos esperar rendimientos exhorbitantes. Por otra parte, sin importar los movimientos del mercado, la diversificación nos ayudará a tener éxito en el largo plazo.\n",
    "\n",
    "David Swensen, en su libro Unconventional Success, nos provee una estructura de portafolio diversificado con base en diversos sectores. Entre los sectores se incluyen:\n",
    "- Acciones de EEUU,\n",
    "- Economías desarrolladas,\n",
    "- Economías en desarrollo,\n",
    "- Bienes raíces,\n",
    "- Entre otros.\n",
    "\n",
    "Para los anteriores sectores, podemos encontrar ETF's (Exchange Traded Fund) emitidos por la administradora Vanguard:\n",
    "- Acciones de EEUU: Vanguard S&P 500 ETF (VOO).\n",
    "- Economías desarrolladas: Vanguard FTSE Developed Markets Index Fund ETF Shares (VEA).\n",
    "- Economías en desarrollo: Vanguard FTSE Emerging Markets Index Fund ETF Shares (VWO).\n",
    "- Bienes raíces: Vanguard Real Estate Index Fund ETF Shares (VNQ)."
   ]
  },
  {
   "cell_type": "code",
   "execution_count": 37,
   "metadata": {},
   "outputs": [],
   "source": [
    "import pandas as pd\n",
    "import numpy as np\n",
    "import scipy.optimize as opt\n",
    "import matplotlib.pyplot as pt\n",
    "%matplotlib inline"
   ]
  },
  {
   "cell_type": "markdown",
   "metadata": {},
   "source": [
    "**Punto 1 (10%).** En el archivo `prices_data.csv` se encuentran reportados los **precios mensuales ajustados en el cierre** de los ETF VOO, VEA, VWO, y VNQ, en dólares, desde inicios del 2011 hasta el úlimo mes reportado.\n",
    "\n",
    "Adicionalmente, \n",
    "\n",
    "- la tasa de los Cetes a un mes reportados en la página de [Banxico](http://www.banxico.org.mx/) es de $6.68\\%$, al 26 de Abril (esta tasa es anual).\n",
    "\n",
    "1. Importar los **precios** de los ETF en un **DataFrame indizado por fecha** (5%): \n",
    " - Mostrar la gráfica de estos precios.\n",
    " - Obtener un DataFrame con los **rendimientos porcentuales mensuales** para estos activos. Mostrar la gráfica de rendimientos.\n",
    " \n",
    "2. Reportar en un **DataFrame el rendimiento esperado mensual y la volatilidad mensual** para cada uno de estos activos. Calcular las matrices de varianza-covarianza (**base mensual**) y de correlación (**base mensual**) para estos activos (5%)."
   ]
  },
  {
   "cell_type": "code",
   "execution_count": 19,
   "metadata": {},
   "outputs": [
    {
     "name": "stdout",
     "output_type": "stream",
     "text": [
      "                                 VEA        VNQ         VOO        VWO\n",
      "Date                                                                  \n",
      "2011-01-01 00:00:00-05:00  25.594753  35.397335   93.492592  33.429504\n",
      "2011-02-01 00:00:00-05:00  26.530388  37.062878   96.733452  33.371971\n",
      "2011-03-01 00:00:00-05:00  25.858124  36.202240   96.304504  35.198410\n",
      "2011-04-01 00:00:00-04:00  27.468044  38.561440   99.576218  36.384865\n",
      "2011-05-01 00:00:00-04:00  26.726233  39.091560   98.411316  35.313454\n",
      "...                              ...        ...         ...        ...\n",
      "2023-01-01 00:00:00-05:00  45.588573  90.156326  371.908722  42.199478\n",
      "2023-02-01 00:00:00-05:00  44.004528  84.869324  362.616943  39.391506\n",
      "2023-03-01 00:00:00-05:00  45.000782  82.215919  374.527924  40.370800\n",
      "2023-04-01 00:00:00-04:00  46.360001  83.300003  382.049988  40.240002\n",
      "2023-05-01 00:00:00-04:00  45.830002  81.279999  377.510010  39.689999\n",
      "\n",
      "[149 rows x 4 columns]\n"
     ]
    },
    {
     "data": {
      "text/plain": [
       "Text(0.5, 1.0, 'Precios de ETFs')"
      ]
     },
     "execution_count": 19,
     "metadata": {},
     "output_type": "execute_result"
    },
    {
     "data": {
      "image/png": "[encoded data removed]",
      "text/plain": [
       "<Figure size 432x288 with 1 Axes>"
      ]
     },
     "metadata": {
      "needs_background": "light"
     },
     "output_type": "display_data"
    }
   ],
   "source": [
    "# 1\n",
    "data = pd.read_csv(\"prices_data.csv\", index_col=[\"Date\"])\n",
    "print(data)\n",
    "data.plot()\n",
    "pt.title(\"Precios de ETFs\")"
   ]
  },
  {
   "cell_type": "code",
   "execution_count": 21,
   "metadata": {},
   "outputs": [
    {
     "name": "stdout",
     "output_type": "stream",
     "text": [
      "                                VEA       VNQ       VOO       VWO\n",
      "Date                                                             \n",
      "2011-02-01 00:00:00-05:00  0.036556  0.047053  0.034664 -0.001721\n",
      "2011-03-01 00:00:00-05:00 -0.025339 -0.023221 -0.004434  0.054730\n",
      "2011-04-01 00:00:00-04:00  0.062260  0.065167  0.033973  0.033708\n",
      "2011-05-01 00:00:00-04:00 -0.027006  0.013747 -0.011699 -0.029447\n",
      "2011-06-01 00:00:00-04:00 -0.012192 -0.041162 -0.021566 -0.009978\n",
      "...                             ...       ...       ...       ...\n",
      "2023-01-01 00:00:00-05:00  0.103099  0.119629  0.067992  0.101072\n",
      "2023-02-01 00:00:00-05:00 -0.034747 -0.058643 -0.024984 -0.066540\n",
      "2023-03-01 00:00:00-05:00  0.022640 -0.031265  0.032847  0.024861\n",
      "2023-04-01 00:00:00-04:00  0.030204  0.013186  0.020084 -0.003240\n",
      "2023-05-01 00:00:00-04:00 -0.011432 -0.024250 -0.011883 -0.013668\n",
      "\n",
      "[148 rows x 4 columns]\n"
     ]
    },
    {
     "data": {
      "text/plain": [
       "Text(0.5, 1.0, 'Rendimientos mensuales de ETFs')"
      ]
     },
     "execution_count": 21,
     "metadata": {},
     "output_type": "execute_result"
    },
    {
     "data": {
      "image/png": "[encoded data removed]",
      "text/plain": [
       "<Figure size 432x288 with 1 Axes>"
      ]
     },
     "metadata": {
      "needs_background": "light"
     },
     "output_type": "display_data"
    }
   ],
   "source": [
    "ret = data.pct_change().dropna()\n",
    "print(ret)\n",
    "ret.plot()\n",
    "pt.title(\"Rendimientos mensuales de ETFs\")"
   ]
  },
  {
   "cell_type": "code",
   "execution_count": 22,
   "metadata": {},
   "outputs": [
    {
     "data": {
      "text/html": [
       "<div>\n",
       "<style scoped>\n",
       "    .dataframe tbody tr th:only-of-type {\n",
       "        vertical-align: middle;\n",
       "    }\n",
       "\n",
       "    .dataframe tbody tr th {\n",
       "        vertical-align: top;\n",
       "    }\n",
       "\n",
       "    .dataframe thead th {\n",
       "        text-align: right;\n",
       "    }\n",
       "</style>\n",
       "<table border=\"1\" class=\"dataframe\">\n",
       "  <thead>\n",
       "    <tr style=\"text-align: right;\">\n",
       "      <th></th>\n",
       "      <th>VEA</th>\n",
       "      <th>VNQ</th>\n",
       "      <th>VOO</th>\n",
       "      <th>VWO</th>\n",
       "    </tr>\n",
       "  </thead>\n",
       "  <tbody>\n",
       "    <tr>\n",
       "      <th>Media</th>\n",
       "      <td>0.005061</td>\n",
       "      <td>0.006977</td>\n",
       "      <td>0.010382</td>\n",
       "      <td>0.002571</td>\n",
       "    </tr>\n",
       "    <tr>\n",
       "      <th>Volatilidad</th>\n",
       "      <td>0.047276</td>\n",
       "      <td>0.051753</td>\n",
       "      <td>0.042697</td>\n",
       "      <td>0.053071</td>\n",
       "    </tr>\n",
       "  </tbody>\n",
       "</table>\n",
       "</div>"
      ],
      "text/plain": [
       "                  VEA       VNQ       VOO       VWO\n",
       "Media        0.005061  0.006977  0.010382  0.002571\n",
       "Volatilidad  0.047276  0.051753  0.042697  0.053071"
      ]
     },
     "execution_count": 22,
     "metadata": {},
     "output_type": "execute_result"
    }
   ],
   "source": [
    "# 2\n",
    "summ = pd.DataFrame({\"Media\": ret.mean(), \"Volatilidad\": ret.std()}).T\n",
    "summ"
   ]
  },
  {
   "cell_type": "code",
   "execution_count": 25,
   "metadata": {},
   "outputs": [
    {
     "name": "stdout",
     "output_type": "stream",
     "text": [
      "          VEA       VNQ       VOO       VWO\n",
      "VEA  0.002235  0.001682  0.001761  0.002083\n",
      "VNQ  0.001682  0.002678  0.001638  0.001607\n",
      "VOO  0.001761  0.001638  0.001823  0.001603\n",
      "VWO  0.002083  0.001607  0.001603  0.002816\n",
      "\n",
      "          VEA       VNQ       VOO       VWO\n",
      "VEA  1.000000  0.687598  0.872308  0.830366\n",
      "VNQ  0.687598  1.000000  0.741289  0.585243\n",
      "VOO  0.872308  0.741289  1.000000  0.707386\n",
      "VWO  0.830366  0.585243  0.707386  1.000000\n"
     ]
    }
   ],
   "source": [
    "cov = ret.cov()\n",
    "print(cov)\n",
    "corr = ret.corr()\n",
    "print()\n",
    "print(corr)"
   ]
  },
  {
   "cell_type": "markdown",
   "metadata": {},
   "source": [
    "**Punto 2.** (20 puntos) Usando los datos del punto anterior:\n",
    "\n",
    "1. Halle los pesos del portafolio de mínima varianza considerando todos los ETF. También reportar claramente el rendimiento esperado, volatilidad y cociente de Sharpe para dicho portafolio (9 puntos).\n",
    "2. Halle los pesos del portafolio EMV considerando todos los ETF. También reportar claramente el rendimiento esperado, volatilidad y cociente de Sharpe para dicho portafolio (9 puntos).\n",
    "3. Halle la covarianza y la correlación entre los dos portafolios hallados (2 puntos)."
   ]
  },
  {
   "cell_type": "code",
   "execution_count": 55,
   "metadata": {},
   "outputs": [
    {
     "name": "stdout",
     "output_type": "stream",
     "text": [
      "Pesos: \n",
      "VEA: 0.0%\n",
      "VNQ: 12.99%\n",
      "VOO: 73.38%\n",
      "VWO: 13.64%\n",
      "\n",
      "Rendimiento esperado: 0.89%\n",
      "Volatilidad: 4.21%\n",
      "Ratio: 0.0786\n"
     ]
    }
   ],
   "source": [
    "# 1\n",
    "def var(w, si):\n",
    "    return w.T.dot(si).dot(w)\n",
    "\n",
    "n = cov.shape[0]\n",
    "w0 = np.ones(n)/n\n",
    "cons = {\"type\": \"eq\", \"fun\": lambda w: w.sum() - 1}\n",
    "bnds = n*((0, 1), )\n",
    "rf = 0.0668/12\n",
    "\n",
    "minvar = opt.minimize(\n",
    "    fun = var,\n",
    "    x0 = w0,\n",
    "    args = (cov, ),\n",
    "    bounds = bnds, \n",
    "    constraints = cons,\n",
    "    tol = 1e-10\n",
    ")\n",
    "\n",
    "w_minvar = minvar.x\n",
    "e_minvar = w_minvar.dot(summ.iloc[0, :])\n",
    "s_minvar = w_minvar.T.dot(cov).dot(w_minvar)**0.5\n",
    "r_minvar = (e_minvar - rf) / s_minvar\n",
    "\n",
    "print(\"Pesos: \")\n",
    "for i in range(4):\n",
    "    print(\"{}: {}%\".format(summ.columns.values[i],round(w_minvar[i]*100, 2)))\n",
    "print()\n",
    "print(\"Rendimiento esperado: {}%\".format(round(e_minvar*100, 2)))\n",
    "print(\"Volatilidad: {}%\".format(round(s_minvar*100, 2)))\n",
    "print(\"Ratio: {}\".format(round(r_minvar, 4)))"
   ]
  },
  {
   "cell_type": "code",
   "execution_count": 57,
   "metadata": {},
   "outputs": [
    {
     "name": "stdout",
     "output_type": "stream",
     "text": [
      "Pesos: \n",
      "VEA: 0.0%\n",
      "VNQ: 0.0%\n",
      "VOO: 100.0%\n",
      "VWO: 0.0%\n",
      "\n",
      "Rendimiento esperado: 1.04%\n",
      "Volatilidad: 4.27%\n",
      "Ratio: 0.1128\n"
     ]
    }
   ],
   "source": [
    "# 2\n",
    "def rs (w, eind, si, rf):\n",
    "    ep = w.dot(eind)\n",
    "    sp = (w.T.dot(si).dot(w))**0.5\n",
    "    rs_me = -(ep - rf) / sp\n",
    "    return rs_me\n",
    "\n",
    "eind = summ.iloc[0, :]\n",
    "\n",
    "emv = opt.minimize(\n",
    "    fun = rs,\n",
    "    x0 = w0,\n",
    "    args = (eind, cov, rf),\n",
    "    bounds = bnds,\n",
    "    constraints = cons\n",
    ")\n",
    "\n",
    "w_emv = emv.x\n",
    "e_emv = summ.iloc[0, 2]\n",
    "s_emv = summ.iloc[1,2]\n",
    "r_emv = (e_emv - rf) / s_emv\n",
    "\n",
    "print(\"Pesos: \")\n",
    "for i in range(4):\n",
    "    print(\"{}: {}%\".format(summ.columns.values[i],round(emv.x[i]*100, 2)))\n",
    "print()\n",
    "print(\"Rendimiento esperado: {}%\".format(round(e_emv*100, 2)))\n",
    "print(\"Volatilidad: {}%\".format(round(s_emv*100, 2)))\n",
    "print(\"Ratio: {}\".format(round(r_emv, 4)))"
   ]
  },
  {
   "cell_type": "code",
   "execution_count": 58,
   "metadata": {},
   "outputs": [
    {
     "name": "stdout",
     "output_type": "stream",
     "text": [
      "Covarianza: 0.0017689590239976804\n",
      "Correlación: 0.9850657860744303\n"
     ]
    }
   ],
   "source": [
    "# 3\n",
    "print(\"Covarianza: {}\".format(w_minvar.T.dot(cov).dot(w_emv)))\n",
    "print(\"Correlación: {}\".format(w_minvar.T.dot(cov).dot(w_emv)/(s_emv*s_minvar)))"
   ]
  },
  {
   "cell_type": "markdown",
   "metadata": {},
   "source": [
    "**Punto 3.** (10 puntos) Con los portafolios que se encontraron en el punto anterior (de mínima varianza y EMV):\n",
    "\n",
    "1. Construya la frontera de mínima varianza calculando el rendimiento esperado y volatilidad para varias combinaciones de los anteriores portafolios. Reportar dichas combinaciones en un DataFrame incluyendo pesos, rendimiento, volatilidad y cociente de Sharpe (5 puntos).\n",
    "2. También construya la línea de asignación de capital entre el activo libre de riesgo y el portafolio EMV. Reportar las combinaciones de estos activos en un DataFrame incluyendo pesos, rendimiento, volatilidad y cociente de Sharpe (5 puntos)."
   ]
  },
  {
   "cell_type": "code",
   "execution_count": 59,
   "metadata": {},
   "outputs": [
    {
     "data": {
      "text/html": [
       "<div>\n",
       "<style scoped>\n",
       "    .dataframe tbody tr th:only-of-type {\n",
       "        vertical-align: middle;\n",
       "    }\n",
       "\n",
       "    .dataframe tbody tr th {\n",
       "        vertical-align: top;\n",
       "    }\n",
       "\n",
       "    .dataframe thead th {\n",
       "        text-align: right;\n",
       "    }\n",
       "</style>\n",
       "<table border=\"1\" class=\"dataframe\">\n",
       "  <thead>\n",
       "    <tr style=\"text-align: right;\">\n",
       "      <th></th>\n",
       "      <th>w_emv</th>\n",
       "      <th>w_minvar</th>\n",
       "      <th>media</th>\n",
       "      <th>volatilidad</th>\n",
       "      <th>ratio</th>\n",
       "    </tr>\n",
       "  </thead>\n",
       "  <tbody>\n",
       "    <tr>\n",
       "      <th>0</th>\n",
       "      <td>0.00</td>\n",
       "      <td>1.00</td>\n",
       "      <td>0.008874</td>\n",
       "      <td>0.042059</td>\n",
       "      <td>0.078647</td>\n",
       "    </tr>\n",
       "    <tr>\n",
       "      <th>1</th>\n",
       "      <td>0.01</td>\n",
       "      <td>0.99</td>\n",
       "      <td>0.008890</td>\n",
       "      <td>0.042059</td>\n",
       "      <td>0.079006</td>\n",
       "    </tr>\n",
       "    <tr>\n",
       "      <th>2</th>\n",
       "      <td>0.02</td>\n",
       "      <td>0.98</td>\n",
       "      <td>0.008905</td>\n",
       "      <td>0.042059</td>\n",
       "      <td>0.079364</td>\n",
       "    </tr>\n",
       "    <tr>\n",
       "      <th>3</th>\n",
       "      <td>0.03</td>\n",
       "      <td>0.97</td>\n",
       "      <td>0.008920</td>\n",
       "      <td>0.042060</td>\n",
       "      <td>0.079721</td>\n",
       "    </tr>\n",
       "    <tr>\n",
       "      <th>4</th>\n",
       "      <td>0.04</td>\n",
       "      <td>0.96</td>\n",
       "      <td>0.008935</td>\n",
       "      <td>0.042060</td>\n",
       "      <td>0.080079</td>\n",
       "    </tr>\n",
       "    <tr>\n",
       "      <th>...</th>\n",
       "      <td>...</td>\n",
       "      <td>...</td>\n",
       "      <td>...</td>\n",
       "      <td>...</td>\n",
       "      <td>...</td>\n",
       "    </tr>\n",
       "    <tr>\n",
       "      <th>96</th>\n",
       "      <td>0.96</td>\n",
       "      <td>0.04</td>\n",
       "      <td>0.010322</td>\n",
       "      <td>0.042647</td>\n",
       "      <td>0.111497</td>\n",
       "    </tr>\n",
       "    <tr>\n",
       "      <th>97</th>\n",
       "      <td>0.97</td>\n",
       "      <td>0.03</td>\n",
       "      <td>0.010337</td>\n",
       "      <td>0.042659</td>\n",
       "      <td>0.111818</td>\n",
       "    </tr>\n",
       "    <tr>\n",
       "      <th>98</th>\n",
       "      <td>0.98</td>\n",
       "      <td>0.02</td>\n",
       "      <td>0.010352</td>\n",
       "      <td>0.042672</td>\n",
       "      <td>0.112139</td>\n",
       "    </tr>\n",
       "    <tr>\n",
       "      <th>99</th>\n",
       "      <td>0.99</td>\n",
       "      <td>0.01</td>\n",
       "      <td>0.010367</td>\n",
       "      <td>0.042684</td>\n",
       "      <td>0.112460</td>\n",
       "    </tr>\n",
       "    <tr>\n",
       "      <th>100</th>\n",
       "      <td>1.00</td>\n",
       "      <td>0.00</td>\n",
       "      <td>0.010382</td>\n",
       "      <td>0.042697</td>\n",
       "      <td>0.112779</td>\n",
       "    </tr>\n",
       "  </tbody>\n",
       "</table>\n",
       "<p>101 rows × 5 columns</p>\n",
       "</div>"
      ],
      "text/plain": [
       "     w_emv  w_minvar     media  volatilidad     ratio\n",
       "0     0.00      1.00  0.008874     0.042059  0.078647\n",
       "1     0.01      0.99  0.008890     0.042059  0.079006\n",
       "2     0.02      0.98  0.008905     0.042059  0.079364\n",
       "3     0.03      0.97  0.008920     0.042060  0.079721\n",
       "4     0.04      0.96  0.008935     0.042060  0.080079\n",
       "..     ...       ...       ...          ...       ...\n",
       "96    0.96      0.04  0.010322     0.042647  0.111497\n",
       "97    0.97      0.03  0.010337     0.042659  0.111818\n",
       "98    0.98      0.02  0.010352     0.042672  0.112139\n",
       "99    0.99      0.01  0.010367     0.042684  0.112460\n",
       "100   1.00      0.00  0.010382     0.042697  0.112779\n",
       "\n",
       "[101 rows x 5 columns]"
      ]
     },
     "execution_count": 59,
     "metadata": {},
     "output_type": "execute_result"
    }
   ],
   "source": [
    "# 1 \n",
    "n = 101\n",
    "covport = w_minvar.T.dot(cov).dot(w_emv)\n",
    "w = np.linspace(0, 1, n)\n",
    "\n",
    "front = pd.DataFrame({\n",
    "    \"w_emv\"       : w,\n",
    "    \"w_minvar\"    : 1 - w,\n",
    "    \"media\"       : w*e_emv + (1 - w)*e_minvar,\n",
    "    \"volatilidad\" : ((w*s_emv)**2 + ((1 - w)*s_minvar)**2 + 2*(w*(1 - w)*covport))**0.5\n",
    "})\n",
    "\n",
    "front[\"ratio\"] = (front[\"media\"] - rf) / front[\"volatilidad\"]\n",
    "front"
   ]
  },
  {
   "cell_type": "code",
   "execution_count": 61,
   "metadata": {},
   "outputs": [
    {
     "data": {
      "text/html": [
       "<div>\n",
       "<style scoped>\n",
       "    .dataframe tbody tr th:only-of-type {\n",
       "        vertical-align: middle;\n",
       "    }\n",
       "\n",
       "    .dataframe tbody tr th {\n",
       "        vertical-align: top;\n",
       "    }\n",
       "\n",
       "    .dataframe thead th {\n",
       "        text-align: right;\n",
       "    }\n",
       "</style>\n",
       "<table border=\"1\" class=\"dataframe\">\n",
       "  <thead>\n",
       "    <tr style=\"text-align: right;\">\n",
       "      <th></th>\n",
       "      <th>w_emv</th>\n",
       "      <th>w_fr</th>\n",
       "      <th>media</th>\n",
       "      <th>volatilidad</th>\n",
       "      <th>ratio</th>\n",
       "    </tr>\n",
       "  </thead>\n",
       "  <tbody>\n",
       "    <tr>\n",
       "      <th>0</th>\n",
       "      <td>0.00</td>\n",
       "      <td>1.00</td>\n",
       "      <td>0.005567</td>\n",
       "      <td>0.000000</td>\n",
       "      <td>NaN</td>\n",
       "    </tr>\n",
       "    <tr>\n",
       "      <th>1</th>\n",
       "      <td>0.02</td>\n",
       "      <td>0.98</td>\n",
       "      <td>0.005663</td>\n",
       "      <td>0.000854</td>\n",
       "      <td>0.112779</td>\n",
       "    </tr>\n",
       "    <tr>\n",
       "      <th>2</th>\n",
       "      <td>0.04</td>\n",
       "      <td>0.96</td>\n",
       "      <td>0.005759</td>\n",
       "      <td>0.001708</td>\n",
       "      <td>0.112779</td>\n",
       "    </tr>\n",
       "    <tr>\n",
       "      <th>3</th>\n",
       "      <td>0.06</td>\n",
       "      <td>0.94</td>\n",
       "      <td>0.005856</td>\n",
       "      <td>0.002562</td>\n",
       "      <td>0.112779</td>\n",
       "    </tr>\n",
       "    <tr>\n",
       "      <th>4</th>\n",
       "      <td>0.08</td>\n",
       "      <td>0.92</td>\n",
       "      <td>0.005952</td>\n",
       "      <td>0.003416</td>\n",
       "      <td>0.112779</td>\n",
       "    </tr>\n",
       "    <tr>\n",
       "      <th>...</th>\n",
       "      <td>...</td>\n",
       "      <td>...</td>\n",
       "      <td>...</td>\n",
       "      <td>...</td>\n",
       "      <td>...</td>\n",
       "    </tr>\n",
       "    <tr>\n",
       "      <th>96</th>\n",
       "      <td>1.92</td>\n",
       "      <td>-0.92</td>\n",
       "      <td>0.014812</td>\n",
       "      <td>0.081977</td>\n",
       "      <td>0.112779</td>\n",
       "    </tr>\n",
       "    <tr>\n",
       "      <th>97</th>\n",
       "      <td>1.94</td>\n",
       "      <td>-0.94</td>\n",
       "      <td>0.014908</td>\n",
       "      <td>0.082831</td>\n",
       "      <td>0.112779</td>\n",
       "    </tr>\n",
       "    <tr>\n",
       "      <th>98</th>\n",
       "      <td>1.96</td>\n",
       "      <td>-0.96</td>\n",
       "      <td>0.015005</td>\n",
       "      <td>0.083685</td>\n",
       "      <td>0.112779</td>\n",
       "    </tr>\n",
       "    <tr>\n",
       "      <th>99</th>\n",
       "      <td>1.98</td>\n",
       "      <td>-0.98</td>\n",
       "      <td>0.015101</td>\n",
       "      <td>0.084539</td>\n",
       "      <td>0.112779</td>\n",
       "    </tr>\n",
       "    <tr>\n",
       "      <th>100</th>\n",
       "      <td>2.00</td>\n",
       "      <td>-1.00</td>\n",
       "      <td>0.015197</td>\n",
       "      <td>0.085393</td>\n",
       "      <td>0.112779</td>\n",
       "    </tr>\n",
       "  </tbody>\n",
       "</table>\n",
       "<p>101 rows × 5 columns</p>\n",
       "</div>"
      ],
      "text/plain": [
       "     w_emv  w_fr     media  volatilidad     ratio\n",
       "0     0.00  1.00  0.005567     0.000000       NaN\n",
       "1     0.02  0.98  0.005663     0.000854  0.112779\n",
       "2     0.04  0.96  0.005759     0.001708  0.112779\n",
       "3     0.06  0.94  0.005856     0.002562  0.112779\n",
       "4     0.08  0.92  0.005952     0.003416  0.112779\n",
       "..     ...   ...       ...          ...       ...\n",
       "96    1.92 -0.92  0.014812     0.081977  0.112779\n",
       "97    1.94 -0.94  0.014908     0.082831  0.112779\n",
       "98    1.96 -0.96  0.015005     0.083685  0.112779\n",
       "99    1.98 -0.98  0.015101     0.084539  0.112779\n",
       "100   2.00 -1.00  0.015197     0.085393  0.112779\n",
       "\n",
       "[101 rows x 5 columns]"
      ]
     },
     "execution_count": 61,
     "metadata": {},
     "output_type": "execute_result"
    }
   ],
   "source": [
    "# 2\n",
    "s = np.linspace(0, 2, n)\n",
    "\n",
    "lac = pd.DataFrame({\n",
    "    \"w_emv\": s, \n",
    "    \"w_fr\": 1-s,\n",
    "    \"media\": (s*e_emv) + (1-s)*rf, \n",
    "    \"volatilidad\" : s*s_emv\n",
    "})\n",
    "\n",
    "lac[\"ratio\"] = (lac[\"media\"] - rf) / lac[\"volatilidad\"]\n",
    "lac"
   ]
  },
  {
   "cell_type": "markdown",
   "metadata": {},
   "source": [
    "**Punto 4.** (20 puntos)\n",
    "\n",
    "1. Usando todos los datos obtenidos, grafique:\n",
    " - los activos individuales,\n",
    " - portafolio de mínima varianza,\n",
    " - portafolio eficiente en media-varianza (EMV),\n",
    " - frontera de mínima varianza, y\n",
    " - línea de asignación de capital,\n",
    "en el espacio de rendimiento (eje $y$) vs. volatilidad (eje $x$). Asegúrese de etiquetar todo y poner distintos colores para diferenciar los distintos elementos en su gráfico (10 puntos).\n",
    "2. Suponga que usted está aconsejando a un cliente cuyo coeficiente de aversión al riesgo resultó ser 4. ¿Qué asignación de capital le sugeriría? ¿Qué significa esta asignación? ¿Cuánto debe invertir en cada activo? ¿Cuánto en el activo libre de riesgo? (10 puntos)."
   ]
  },
  {
   "cell_type": "code",
   "execution_count": 65,
   "metadata": {},
   "outputs": [
    {
     "data": {
      "text/plain": [
       "Text(0, 0.5, 'Rendimiento esperado')"
      ]
     },
     "execution_count": 65,
     "metadata": {},
     "output_type": "execute_result"
    },
    {
     "data": {
      "image/png": "[encoded data removed]",
      "text/plain": [
       "<Figure size 432x288 with 2 Axes>"
      ]
     },
     "metadata": {
      "needs_background": "light"
     },
     "output_type": "display_data"
    }
   ],
   "source": [
    "# 1\n",
    "for i in summ:\n",
    "    pt.plot(summ.loc[\"Volatilidad\", i], summ.loc[\"Media\", i], \"o\", ms = 10, label = i)\n",
    "    \n",
    "pt.plot(s_minvar, e_minvar, '*b', ms = 10, label = 'port_minvar')\n",
    "pt.plot(s_emv, e_emv, '*r', ms = 10, label = 'port_emv')\n",
    "pt.scatter(front[\"volatilidad\"], front[\"media\"], c = front[\"ratio\"])\n",
    "pt.plot(lac[\"volatilidad\"], lac[\"media\"], lw=3, label=\"lac\")\n",
    "\n",
    "pt.legend(loc = \"upper left\")\n",
    "pt.grid()\n",
    "pt.colorbar()\n",
    "pt.xlabel(\"Volatilidad\")\n",
    "pt.ylabel(\"Rendimiento esperado\")"
   ]
  },
  {
   "cell_type": "code",
   "execution_count": 66,
   "metadata": {},
   "outputs": [
    {
     "data": {
      "text/plain": [
       "(0.6603535215017036, 0.33964647849829643)"
      ]
     },
     "execution_count": 66,
     "metadata": {},
     "output_type": "execute_result"
    }
   ],
   "source": [
    "# 2 \n",
    "g = 4\n",
    "w_opt = (e_emv - rf) / (g * (s_emv**2))\n",
    "\n",
    "w_opt, 1-w_opt"
   ]
  },
  {
   "cell_type": "markdown",
   "metadata": {},
   "source": [
    "Le sugiero invertir el 66% de su capital en el portafolio óptimo y un 34% en el activo libre de riesgo. \n",
    "\n",
    "Invertir completamente en VOO (66%)."
   ]
  },
  {
   "cell_type": "markdown",
   "metadata": {},
   "source": [
    "<script>\n",
    "  $(document).ready(function(){\n",
    "    $('div.prompt').hide();\n",
    "    $('div.back-to-top').hide();\n",
    "    $('nav#menubar').hide();\n",
    "    $('.breadcrumb').hide();\n",
    "    $('.hidden-print').hide();\n",
    "  });\n",
    "</script>\n",
    "\n",
    "<footer id=\"attribution\" style=\"float:right; color:#808080; background:#fff;\">\n",
    "Created with Jupyter by Esteban Jiménez Rodríguez.\n",
    "</footer>"
   ]
  }
 ],
 "metadata": {
  "kernelspec": {
   "display_name": "Python 3 (ipykernel)",
   "language": "python",
   "name": "python3"
  },
  "language_info": {
   "codemirror_mode": {
    "name": "ipython",
    "version": 3
   },
   "file_extension": ".py",
   "mimetype": "text/x-python",
   "name": "python",
   "nbconvert_exporter": "python",
   "pygments_lexer": "ipython3",
   "version": "3.9.7"
  }
 },
 "nbformat": 4,
 "nbformat_minor": 2
}
