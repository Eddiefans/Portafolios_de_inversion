{
 "cells": [
  {
   "cell_type": "markdown",
   "metadata": {},
   "source": [
    "# Tarea 7. Estimación del riesgo sistemático ($\\beta$).\n",
    "\n",
    "<img style=\"float: right; margin: 0px 0px 15px 15px;\" src=\"https://upload.wikimedia.org/wikipedia/commons/thumb/6/6e/Separation_theorem_of_MPT.svg/2000px-Separation_theorem_of_MPT.svg.png\" width=\"400px\" height=\"400px\" />\n",
    "\n",
    "**Resumen.**\n",
    "> En esta tarea aplicarás la técnica aprendida en clase para la estimación del coeficiente de riesgo sistemático $\\beta$, el cual es primordial en el modelo de valoración de activos en equilibrio CAPM.\n",
    "\n",
    "**Criterio de revisión.**\n",
    "> Se te calificará de acuerdo a los resultados finales que reportes, basados en tu análisis.\n",
    "\n",
    "**Antes de comenzar.**\n",
    "> Por favor, copiar y pegar este archivo en otra ubicación. Antes de comenzar, nombrarlo *Tarea7_ApellidoNombre*, sin acentos y sin espacios; por ejemplo, en mi caso el archivo se llamaría *Tarea7_JimenezEsteban*. Resolver todos los puntos en dicho archivo y subir en este espacio."
   ]
  },
  {
   "cell_type": "markdown",
   "metadata": {},
   "source": [
    "## 1. Selección de activos (10 puntos)\n",
    "\n",
    "Seleccionar cinco (5) activos de su preferencia del S&P500 y enunciarlos en una celda en formato Markdown."
   ]
  },
  {
   "cell_type": "markdown",
   "metadata": {},
   "source": []
  },
  {
   "cell_type": "markdown",
   "metadata": {},
   "source": [
    "## 2. Descarga de datos (10 puntos)\n",
    "\n",
    "Descargar los precios mensuales ajustados en el cierre para el índice S&P 500 (^GSPC).\n",
    "\n",
    "1. Graficar los precios (5 puntos).\n",
    "2. Graficar los rendimientos (5 puntos)."
   ]
  },
  {
   "cell_type": "code",
   "execution_count": 2,
   "metadata": {},
   "outputs": [],
   "source": [
    "import pandas_datareader.data as web\n",
    "import yfinance as yf\n",
    "import pandas as pd\n",
    "import numpy as np\n",
    "%matplotlib inline\n",
    "\n",
    "yf.pdr_override()"
   ]
  },
  {
   "cell_type": "code",
   "execution_count": 3,
   "metadata": {},
   "outputs": [
    {
     "name": "stdout",
     "output_type": "stream",
     "text": [
      "[*********************100%***********************]  5 of 5 completed\n"
     ]
    },
    {
     "data": {
      "text/html": [
       "<div>\n",
       "<style scoped>\n",
       "    .dataframe tbody tr th:only-of-type {\n",
       "        vertical-align: middle;\n",
       "    }\n",
       "\n",
       "    .dataframe tbody tr th {\n",
       "        vertical-align: top;\n",
       "    }\n",
       "\n",
       "    .dataframe thead th {\n",
       "        text-align: right;\n",
       "    }\n",
       "</style>\n",
       "<table border=\"1\" class=\"dataframe\">\n",
       "  <thead>\n",
       "    <tr style=\"text-align: right;\">\n",
       "      <th></th>\n",
       "      <th>AMZN</th>\n",
       "      <th>MSFT</th>\n",
       "      <th>TSLA</th>\n",
       "      <th>WBA</th>\n",
       "      <th>^GSPC</th>\n",
       "    </tr>\n",
       "    <tr>\n",
       "      <th>Date</th>\n",
       "      <th></th>\n",
       "      <th></th>\n",
       "      <th></th>\n",
       "      <th></th>\n",
       "      <th></th>\n",
       "    </tr>\n",
       "  </thead>\n",
       "  <tbody>\n",
       "    <tr>\n",
       "      <th>2015-01-02</th>\n",
       "      <td>15.426000</td>\n",
       "      <td>40.709469</td>\n",
       "      <td>14.620667</td>\n",
       "      <td>59.285892</td>\n",
       "      <td>2058.199951</td>\n",
       "    </tr>\n",
       "    <tr>\n",
       "      <th>2015-01-05</th>\n",
       "      <td>15.109500</td>\n",
       "      <td>40.335106</td>\n",
       "      <td>14.006000</td>\n",
       "      <td>58.115776</td>\n",
       "      <td>2020.579956</td>\n",
       "    </tr>\n",
       "    <tr>\n",
       "      <th>2015-01-06</th>\n",
       "      <td>14.764500</td>\n",
       "      <td>39.743088</td>\n",
       "      <td>14.085333</td>\n",
       "      <td>58.263996</td>\n",
       "      <td>2002.609985</td>\n",
       "    </tr>\n",
       "    <tr>\n",
       "      <th>2015-01-07</th>\n",
       "      <td>14.921000</td>\n",
       "      <td>40.248051</td>\n",
       "      <td>14.063333</td>\n",
       "      <td>59.753944</td>\n",
       "      <td>2025.900024</td>\n",
       "    </tr>\n",
       "    <tr>\n",
       "      <th>2015-01-08</th>\n",
       "      <td>15.023000</td>\n",
       "      <td>41.432064</td>\n",
       "      <td>14.041333</td>\n",
       "      <td>60.495037</td>\n",
       "      <td>2062.139893</td>\n",
       "    </tr>\n",
       "    <tr>\n",
       "      <th>...</th>\n",
       "      <td>...</td>\n",
       "      <td>...</td>\n",
       "      <td>...</td>\n",
       "      <td>...</td>\n",
       "      <td>...</td>\n",
       "    </tr>\n",
       "    <tr>\n",
       "      <th>2023-04-12</th>\n",
       "      <td>97.830002</td>\n",
       "      <td>283.489990</td>\n",
       "      <td>180.539993</td>\n",
       "      <td>35.689999</td>\n",
       "      <td>4091.949951</td>\n",
       "    </tr>\n",
       "    <tr>\n",
       "      <th>2023-04-13</th>\n",
       "      <td>102.400002</td>\n",
       "      <td>289.839996</td>\n",
       "      <td>185.899994</td>\n",
       "      <td>35.779999</td>\n",
       "      <td>4146.220215</td>\n",
       "    </tr>\n",
       "    <tr>\n",
       "      <th>2023-04-14</th>\n",
       "      <td>102.510002</td>\n",
       "      <td>286.140015</td>\n",
       "      <td>185.000000</td>\n",
       "      <td>35.320000</td>\n",
       "      <td>4137.640137</td>\n",
       "    </tr>\n",
       "    <tr>\n",
       "      <th>2023-04-17</th>\n",
       "      <td>102.739998</td>\n",
       "      <td>288.799988</td>\n",
       "      <td>187.039993</td>\n",
       "      <td>35.939999</td>\n",
       "      <td>4151.319824</td>\n",
       "    </tr>\n",
       "    <tr>\n",
       "      <th>2023-04-18</th>\n",
       "      <td>102.300003</td>\n",
       "      <td>288.369995</td>\n",
       "      <td>184.309998</td>\n",
       "      <td>35.580002</td>\n",
       "      <td>4154.870117</td>\n",
       "    </tr>\n",
       "  </tbody>\n",
       "</table>\n",
       "<p>2087 rows × 5 columns</p>\n",
       "</div>"
      ],
      "text/plain": [
       "                  AMZN        MSFT        TSLA        WBA        ^GSPC\n",
       "Date                                                                  \n",
       "2015-01-02   15.426000   40.709469   14.620667  59.285892  2058.199951\n",
       "2015-01-05   15.109500   40.335106   14.006000  58.115776  2020.579956\n",
       "2015-01-06   14.764500   39.743088   14.085333  58.263996  2002.609985\n",
       "2015-01-07   14.921000   40.248051   14.063333  59.753944  2025.900024\n",
       "2015-01-08   15.023000   41.432064   14.041333  60.495037  2062.139893\n",
       "...                ...         ...         ...        ...          ...\n",
       "2023-04-12   97.830002  283.489990  180.539993  35.689999  4091.949951\n",
       "2023-04-13  102.400002  289.839996  185.899994  35.779999  4146.220215\n",
       "2023-04-14  102.510002  286.140015  185.000000  35.320000  4137.640137\n",
       "2023-04-17  102.739998  288.799988  187.039993  35.939999  4151.319824\n",
       "2023-04-18  102.300003  288.369995  184.309998  35.580002  4154.870117\n",
       "\n",
       "[2087 rows x 5 columns]"
      ]
     },
     "execution_count": 3,
     "metadata": {},
     "output_type": "execute_result"
    }
   ],
   "source": [
    "def get_closes(tickers, start_date=None, end_date=None):\n",
    "    closes = web.get_data_yahoo(tickers=tickers, start=start_date, end=end_date)['Adj Close']\n",
    "    closes.sort_index(inplace=True)\n",
    "    return closes\n",
    "\n",
    "tickers = [\"^GSPC\", \"MSFT\", \"WBA\", \"TSLA\", \"AMZN\"]\n",
    "closes = get_closes(tickers, \"2015-01-01\")\n",
    "closes"
   ]
  },
  {
   "cell_type": "code",
   "execution_count": 4,
   "metadata": {},
   "outputs": [
    {
     "data": {
      "text/plain": [
       "<AxesSubplot:xlabel='Date'>"
      ]
     },
     "execution_count": 4,
     "metadata": {},
     "output_type": "execute_result"
    },
    {
     "data": {
      "image/png": "[encoded data removed]",
      "text/plain": [
       "<Figure size 432x288 with 1 Axes>"
      ]
     },
     "metadata": {
      "needs_background": "light"
     },
     "output_type": "display_data"
    }
   ],
   "source": [
    "closes.plot()"
   ]
  },
  {
   "cell_type": "code",
   "execution_count": 7,
   "metadata": {},
   "outputs": [
    {
     "data": {
      "text/plain": [
       "1.262975"
      ]
     },
     "execution_count": 7,
     "metadata": {},
     "output_type": "execute_result"
    }
   ],
   "source": [
    "# Instalar la última versión de yfinance \n",
    "# para el funcionamiento de yfinance.Ticker().info \n",
    "\n",
    "## Instalación: \"conda install -c conda-forge yfinance\" en Anaconda prompt\n",
    "def get_beta(tkr):\n",
    "    ticker = yf.Ticker(tkr)\n",
    "    info = ticker.info\n",
    "    return info.get(\"beta\")\n",
    "\n",
    "# Obtener betas desde Yahoo Finance\n",
    "b_amzn = get_beta(\"AMZN\")\n",
    "b_amzn"
   ]
  },
  {
   "cell_type": "markdown",
   "metadata": {},
   "source": [
    "## 3. Calculando los coeficientes $\\beta$ (50 puntos)\n",
    "\n",
    "Usando los datos de rendimientos mensuales calculados en el punto anterior:\n",
    "\n",
    "1. Estime el valor del coeficiente de riesgo sistemático $\\beta$ para cada uno de los activos seleccionados, con el método visto en clase (5 puntos por cada activo).\n",
    "2. Compare su estimación de $\\beta$ con el valor reportado en Yahoo! Finance mediante el error relativo: \n",
    "$$e_{relativo}=\\frac{\\beta_{estimado}-\\beta_{Yahoo!}}{\\beta_{Yahoo!}}.$$\n",
    "Concluya de acuerdo al valor del error relativo obtenido (5 puntos por cada activo)."
   ]
  },
  {
   "cell_type": "code",
   "execution_count": null,
   "metadata": {},
   "outputs": [],
   "source": []
  },
  {
   "cell_type": "code",
   "execution_count": null,
   "metadata": {},
   "outputs": [],
   "source": []
  },
  {
   "cell_type": "code",
   "execution_count": null,
   "metadata": {},
   "outputs": [],
   "source": []
  },
  {
   "cell_type": "code",
   "execution_count": null,
   "metadata": {},
   "outputs": [],
   "source": []
  },
  {
   "cell_type": "code",
   "execution_count": null,
   "metadata": {},
   "outputs": [],
   "source": []
  },
  {
   "cell_type": "code",
   "execution_count": null,
   "metadata": {},
   "outputs": [],
   "source": []
  },
  {
   "cell_type": "code",
   "execution_count": null,
   "metadata": {},
   "outputs": [],
   "source": []
  },
  {
   "cell_type": "code",
   "execution_count": null,
   "metadata": {},
   "outputs": [],
   "source": []
  },
  {
   "cell_type": "code",
   "execution_count": null,
   "metadata": {},
   "outputs": [],
   "source": []
  },
  {
   "cell_type": "code",
   "execution_count": null,
   "metadata": {},
   "outputs": [],
   "source": []
  },
  {
   "cell_type": "code",
   "execution_count": null,
   "metadata": {},
   "outputs": [],
   "source": []
  },
  {
   "cell_type": "markdown",
   "metadata": {},
   "source": [
    "## 4. Gráfico y conclusiones (30 puntos)\n",
    "\n",
    "1. Grafique cada uno de los activos en el espacio de $E[r]$ (eje $y$) vs. $\\beta$ (eje $x$) (10 puntos).\n",
    "2. Ajuste una línea recta a los puntos obtenidos. Dar la ecuación (10 puntos).\n",
    "3. De la ecuación obtenida, identifique el valor de la tasa libre de riesgo $r_f$, y el valor del rendimiento esperado del portafolio de mercado $E[r_M]$. Compare este último con el rendimiento esperado del índice S&P500 (10 puntos)."
   ]
  },
  {
   "cell_type": "code",
   "execution_count": null,
   "metadata": {},
   "outputs": [],
   "source": []
  },
  {
   "cell_type": "code",
   "execution_count": null,
   "metadata": {},
   "outputs": [],
   "source": []
  },
  {
   "cell_type": "code",
   "execution_count": null,
   "metadata": {},
   "outputs": [],
   "source": []
  },
  {
   "cell_type": "code",
   "execution_count": null,
   "metadata": {},
   "outputs": [],
   "source": []
  },
  {
   "cell_type": "code",
   "execution_count": null,
   "metadata": {},
   "outputs": [],
   "source": []
  },
  {
   "cell_type": "code",
   "execution_count": null,
   "metadata": {},
   "outputs": [],
   "source": []
  },
  {
   "cell_type": "markdown",
   "metadata": {},
   "source": [
    "<script>\n",
    "  $(document).ready(function(){\n",
    "    $('div.prompt').hide();\n",
    "    $('div.back-to-top').hide();\n",
    "    $('nav#menubar').hide();\n",
    "    $('.breadcrumb').hide();\n",
    "    $('.hidden-print').hide();\n",
    "  });\n",
    "</script>\n",
    "\n",
    "<footer id=\"attribution\" style=\"float:right; color:#808080; background:#fff;\">\n",
    "Created with Jupyter by Esteban Jiménez Rodríguez.\n",
    "</footer>"
   ]
  }
 ],
 "metadata": {
  "kernelspec": {
   "display_name": "Python 3 (ipykernel)",
   "language": "python",
   "name": "python3"
  },
  "language_info": {
   "codemirror_mode": {
    "name": "ipython",
    "version": 3
   },
   "file_extension": ".py",
   "mimetype": "text/x-python",
   "name": "python",
   "nbconvert_exporter": "python",
   "pygments_lexer": "ipython3",
   "version": "3.9.12"
  }
 },
 "nbformat": 4,
 "nbformat_minor": 2
}
