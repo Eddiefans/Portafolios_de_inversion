{
 "cells": [
  {
   "cell_type": "markdown",
   "metadata": {},
   "source": [
    "# Tarea 7. Estimación del riesgo sistemático ($\\beta$).\n",
    "\n",
    "<img style=\"float: right; margin: 0px 0px 15px 15px;\" src=\"https://upload.wikimedia.org/wikipedia/commons/thumb/6/6e/Separation_theorem_of_MPT.svg/2000px-Separation_theorem_of_MPT.svg.png\" width=\"400px\" height=\"400px\" />\n",
    "\n",
    "**Resumen.**\n",
    "> En esta tarea aplicarás la técnica aprendida en clase para la estimación del coeficiente de riesgo sistemático $\\beta$, el cual es primordial en el modelo de valoración de activos en equilibrio CAPM.\n",
    "\n",
    "**Criterio de revisión.**\n",
    "> Se te calificará de acuerdo a los resultados finales que reportes, basados en tu análisis.\n",
    "\n",
    "**Antes de comenzar.**\n",
    "> Por favor, copiar y pegar este archivo en otra ubicación. Antes de comenzar, nombrarlo *Tarea7_ApellidoNombre*, sin acentos y sin espacios; por ejemplo, en mi caso el archivo se llamaría *Tarea7_JimenezEsteban*. Resolver todos los puntos en dicho archivo y subir en este espacio."
   ]
  },
  {
   "cell_type": "markdown",
   "metadata": {},
   "source": [
    "## 1. Selección de activos (10 puntos)\n",
    "\n",
    "Seleccionar cinco (5) activos de su preferencia del S&P500 y enunciarlos en una celda en formato Markdown."
   ]
  },
  {
   "cell_type": "markdown",
   "metadata": {},
   "source": [
    "1. Microsoft (MSFT)\n",
    "2. Amazon (AMZN)\n",
    "3. Meta (META)\n",
    "4. Google (GOOGL)\n",
    "5. Tesla (TSLA)"
   ]
  },
  {
   "cell_type": "markdown",
   "metadata": {},
   "source": [
    "## 2. Descarga de datos (10 puntos)\n",
    "\n",
    "Descargar los precios mensuales ajustados en el cierre para los activos elegidos y el índice S&P 500 (^GSPC).\n",
    "\n",
    "1. Graficar los precios (5 puntos).\n",
    "2. Graficar los rendimientos (5 puntos)."
   ]
  },
  {
   "cell_type": "code",
   "execution_count": 1,
   "metadata": {},
   "outputs": [],
   "source": [
    "import pandas_datareader.data as web\n",
    "import yfinance as yf\n",
    "import pandas as pd\n",
    "import numpy as np\n",
    "import matplotlib.pyplot as plt\n",
    "%matplotlib inline\n",
    "\n",
    "yf.pdr_override()"
   ]
  },
  {
   "cell_type": "code",
   "execution_count": 2,
   "metadata": {},
   "outputs": [],
   "source": [
    "def get_adj_closes(tickers,\n",
    "                   start_date=None,\n",
    "                   end_date=None,\n",
    "                   interval=\"1d\"\n",
    "                  ):\n",
    "    # Fecha inicio por defecto (start_date='2010-01-01') y fecha fin por defecto (end_date=today)\n",
    "    # Descargamos DataFrame con todos los datos\n",
    "    closes = web.get_data_yahoo(\n",
    "        tickers=tickers,\n",
    "        start=start_date,\n",
    "        end=end_date,\n",
    "        interval=interval\n",
    "    )\n",
    "    # Solo necesitamos los precios ajustados en el cierre\n",
    "    closes = closes['Adj Close']\n",
    "    # Se ordenan los índices de manera ascendente\n",
    "    closes.sort_index(inplace=True)\n",
    "    return closes"
   ]
  },
  {
   "cell_type": "code",
   "execution_count": 3,
   "metadata": {},
   "outputs": [],
   "source": [
    "tickers = [\"MSFT\",\"AMZN\",\"META\",\"GOOGL\",\"TSLA\", \"^GSPC\"]\n",
    "start = \"2018-04-01\""
   ]
  },
  {
   "cell_type": "code",
   "execution_count": 4,
   "metadata": {},
   "outputs": [
    {
     "name": "stdout",
     "output_type": "stream",
     "text": [
      "[*********************100%***********************]  6 of 6 completed\n"
     ]
    }
   ],
   "source": [
    "closes = get_adj_closes(tickers, start_date=start, interval=\"1mo\")"
   ]
  },
  {
   "cell_type": "code",
   "execution_count": 5,
   "metadata": {
    "scrolled": true
   },
   "outputs": [
    {
     "data": {
      "text/html": [
       "<div>\n",
       "<style scoped>\n",
       "    .dataframe tbody tr th:only-of-type {\n",
       "        vertical-align: middle;\n",
       "    }\n",
       "\n",
       "    .dataframe tbody tr th {\n",
       "        vertical-align: top;\n",
       "    }\n",
       "\n",
       "    .dataframe thead th {\n",
       "        text-align: right;\n",
       "    }\n",
       "</style>\n",
       "<table border=\"1\" class=\"dataframe\">\n",
       "  <thead>\n",
       "    <tr style=\"text-align: right;\">\n",
       "      <th></th>\n",
       "      <th>AMZN</th>\n",
       "      <th>GOOGL</th>\n",
       "      <th>META</th>\n",
       "      <th>MSFT</th>\n",
       "      <th>TSLA</th>\n",
       "      <th>^GSPC</th>\n",
       "    </tr>\n",
       "    <tr>\n",
       "      <th>Date</th>\n",
       "      <th></th>\n",
       "      <th></th>\n",
       "      <th></th>\n",
       "      <th></th>\n",
       "      <th></th>\n",
       "      <th></th>\n",
       "    </tr>\n",
       "  </thead>\n",
       "  <tbody>\n",
       "    <tr>\n",
       "      <th>2018-04-01</th>\n",
       "      <td>78.306503</td>\n",
       "      <td>50.929001</td>\n",
       "      <td>172.000000</td>\n",
       "      <td>88.261810</td>\n",
       "      <td>19.593332</td>\n",
       "      <td>2648.050049</td>\n",
       "    </tr>\n",
       "    <tr>\n",
       "      <th>2018-05-01</th>\n",
       "      <td>81.481003</td>\n",
       "      <td>55.000000</td>\n",
       "      <td>191.779999</td>\n",
       "      <td>93.282669</td>\n",
       "      <td>18.982000</td>\n",
       "      <td>2705.270020</td>\n",
       "    </tr>\n",
       "    <tr>\n",
       "      <th>2018-06-01</th>\n",
       "      <td>84.989998</td>\n",
       "      <td>56.459499</td>\n",
       "      <td>194.320007</td>\n",
       "      <td>93.468994</td>\n",
       "      <td>22.863333</td>\n",
       "      <td>2718.370117</td>\n",
       "    </tr>\n",
       "    <tr>\n",
       "      <th>2018-07-01</th>\n",
       "      <td>88.872002</td>\n",
       "      <td>61.361000</td>\n",
       "      <td>172.580002</td>\n",
       "      <td>100.549568</td>\n",
       "      <td>19.875999</td>\n",
       "      <td>2816.290039</td>\n",
       "    </tr>\n",
       "    <tr>\n",
       "      <th>2018-08-01</th>\n",
       "      <td>100.635498</td>\n",
       "      <td>61.590000</td>\n",
       "      <td>175.729996</td>\n",
       "      <td>106.473724</td>\n",
       "      <td>20.110666</td>\n",
       "      <td>2901.520020</td>\n",
       "    </tr>\n",
       "    <tr>\n",
       "      <th>...</th>\n",
       "      <td>...</td>\n",
       "      <td>...</td>\n",
       "      <td>...</td>\n",
       "      <td>...</td>\n",
       "      <td>...</td>\n",
       "      <td>...</td>\n",
       "    </tr>\n",
       "    <tr>\n",
       "      <th>2022-12-01</th>\n",
       "      <td>84.000000</td>\n",
       "      <td>88.230003</td>\n",
       "      <td>120.339996</td>\n",
       "      <td>239.220825</td>\n",
       "      <td>123.180000</td>\n",
       "      <td>3839.500000</td>\n",
       "    </tr>\n",
       "    <tr>\n",
       "      <th>2023-01-01</th>\n",
       "      <td>103.129997</td>\n",
       "      <td>98.839996</td>\n",
       "      <td>148.970001</td>\n",
       "      <td>247.190857</td>\n",
       "      <td>173.220001</td>\n",
       "      <td>4076.600098</td>\n",
       "    </tr>\n",
       "    <tr>\n",
       "      <th>2023-02-01</th>\n",
       "      <td>94.230003</td>\n",
       "      <td>90.059998</td>\n",
       "      <td>174.940002</td>\n",
       "      <td>248.796829</td>\n",
       "      <td>205.710007</td>\n",
       "      <td>3970.149902</td>\n",
       "    </tr>\n",
       "    <tr>\n",
       "      <th>2023-03-01</th>\n",
       "      <td>103.290001</td>\n",
       "      <td>103.730003</td>\n",
       "      <td>211.940002</td>\n",
       "      <td>288.299988</td>\n",
       "      <td>207.460007</td>\n",
       "      <td>4109.310059</td>\n",
       "    </tr>\n",
       "    <tr>\n",
       "      <th>2023-04-01</th>\n",
       "      <td>102.300003</td>\n",
       "      <td>104.500000</td>\n",
       "      <td>216.399994</td>\n",
       "      <td>288.369995</td>\n",
       "      <td>184.309998</td>\n",
       "      <td>4154.870117</td>\n",
       "    </tr>\n",
       "  </tbody>\n",
       "</table>\n",
       "<p>61 rows × 6 columns</p>\n",
       "</div>"
      ],
      "text/plain": [
       "                  AMZN       GOOGL        META        MSFT        TSLA  \\\n",
       "Date                                                                     \n",
       "2018-04-01   78.306503   50.929001  172.000000   88.261810   19.593332   \n",
       "2018-05-01   81.481003   55.000000  191.779999   93.282669   18.982000   \n",
       "2018-06-01   84.989998   56.459499  194.320007   93.468994   22.863333   \n",
       "2018-07-01   88.872002   61.361000  172.580002  100.549568   19.875999   \n",
       "2018-08-01  100.635498   61.590000  175.729996  106.473724   20.110666   \n",
       "...                ...         ...         ...         ...         ...   \n",
       "2022-12-01   84.000000   88.230003  120.339996  239.220825  123.180000   \n",
       "2023-01-01  103.129997   98.839996  148.970001  247.190857  173.220001   \n",
       "2023-02-01   94.230003   90.059998  174.940002  248.796829  205.710007   \n",
       "2023-03-01  103.290001  103.730003  211.940002  288.299988  207.460007   \n",
       "2023-04-01  102.300003  104.500000  216.399994  288.369995  184.309998   \n",
       "\n",
       "                  ^GSPC  \n",
       "Date                     \n",
       "2018-04-01  2648.050049  \n",
       "2018-05-01  2705.270020  \n",
       "2018-06-01  2718.370117  \n",
       "2018-07-01  2816.290039  \n",
       "2018-08-01  2901.520020  \n",
       "...                 ...  \n",
       "2022-12-01  3839.500000  \n",
       "2023-01-01  4076.600098  \n",
       "2023-02-01  3970.149902  \n",
       "2023-03-01  4109.310059  \n",
       "2023-04-01  4154.870117  \n",
       "\n",
       "[61 rows x 6 columns]"
      ]
     },
     "execution_count": 5,
     "metadata": {},
     "output_type": "execute_result"
    }
   ],
   "source": [
    "closes"
   ]
  },
  {
   "cell_type": "code",
   "execution_count": 6,
   "metadata": {},
   "outputs": [
    {
     "data": {
      "text/plain": [
       "<matplotlib.legend.Legend at 0x21f79f1dbe0>"
      ]
     },
     "execution_count": 6,
     "metadata": {},
     "output_type": "execute_result"
    },
    {
     "data": {
      "image/png": "[encoded data removed]",
      "text/plain": [
       "<Figure size 432x288 with 1 Axes>"
      ]
     },
     "metadata": {
      "needs_background": "light"
     },
     "output_type": "display_data"
    }
   ],
   "source": [
    "closes.plot()\n",
    "plt.yscale('log')\n",
    "plt.title(\"Gráfica de precios\")\n",
    "plt.legend(bbox_to_anchor = (1,1), loc = \"upper left\")"
   ]
  },
  {
   "cell_type": "code",
   "execution_count": 7,
   "metadata": {},
   "outputs": [],
   "source": [
    "# Obtener rendimientos mensuales\n",
    "ret = closes.pct_change().dropna()"
   ]
  },
  {
   "cell_type": "code",
   "execution_count": 8,
   "metadata": {
    "scrolled": true
   },
   "outputs": [
    {
     "data": {
      "text/html": [
       "<div>\n",
       "<style scoped>\n",
       "    .dataframe tbody tr th:only-of-type {\n",
       "        vertical-align: middle;\n",
       "    }\n",
       "\n",
       "    .dataframe tbody tr th {\n",
       "        vertical-align: top;\n",
       "    }\n",
       "\n",
       "    .dataframe thead th {\n",
       "        text-align: right;\n",
       "    }\n",
       "</style>\n",
       "<table border=\"1\" class=\"dataframe\">\n",
       "  <thead>\n",
       "    <tr style=\"text-align: right;\">\n",
       "      <th></th>\n",
       "      <th>AMZN</th>\n",
       "      <th>GOOGL</th>\n",
       "      <th>META</th>\n",
       "      <th>MSFT</th>\n",
       "      <th>TSLA</th>\n",
       "      <th>^GSPC</th>\n",
       "    </tr>\n",
       "    <tr>\n",
       "      <th>Date</th>\n",
       "      <th></th>\n",
       "      <th></th>\n",
       "      <th></th>\n",
       "      <th></th>\n",
       "      <th></th>\n",
       "      <th></th>\n",
       "    </tr>\n",
       "  </thead>\n",
       "  <tbody>\n",
       "    <tr>\n",
       "      <th>2018-05-01</th>\n",
       "      <td>0.040539</td>\n",
       "      <td>0.079935</td>\n",
       "      <td>0.115000</td>\n",
       "      <td>0.056886</td>\n",
       "      <td>-0.031201</td>\n",
       "      <td>0.021608</td>\n",
       "    </tr>\n",
       "    <tr>\n",
       "      <th>2018-06-01</th>\n",
       "      <td>0.043065</td>\n",
       "      <td>0.026536</td>\n",
       "      <td>0.013244</td>\n",
       "      <td>0.001997</td>\n",
       "      <td>0.204474</td>\n",
       "      <td>0.004842</td>\n",
       "    </tr>\n",
       "    <tr>\n",
       "      <th>2018-07-01</th>\n",
       "      <td>0.045676</td>\n",
       "      <td>0.086814</td>\n",
       "      <td>-0.111877</td>\n",
       "      <td>0.075753</td>\n",
       "      <td>-0.130660</td>\n",
       "      <td>0.036022</td>\n",
       "    </tr>\n",
       "    <tr>\n",
       "      <th>2018-08-01</th>\n",
       "      <td>0.132364</td>\n",
       "      <td>0.003732</td>\n",
       "      <td>0.018252</td>\n",
       "      <td>0.058918</td>\n",
       "      <td>0.011807</td>\n",
       "      <td>0.030263</td>\n",
       "    </tr>\n",
       "    <tr>\n",
       "      <th>2018-09-01</th>\n",
       "      <td>-0.004824</td>\n",
       "      <td>-0.020068</td>\n",
       "      <td>-0.064132</td>\n",
       "      <td>0.022079</td>\n",
       "      <td>-0.122290</td>\n",
       "      <td>0.004294</td>\n",
       "    </tr>\n",
       "  </tbody>\n",
       "</table>\n",
       "</div>"
      ],
      "text/plain": [
       "                AMZN     GOOGL      META      MSFT      TSLA     ^GSPC\n",
       "Date                                                                  \n",
       "2018-05-01  0.040539  0.079935  0.115000  0.056886 -0.031201  0.021608\n",
       "2018-06-01  0.043065  0.026536  0.013244  0.001997  0.204474  0.004842\n",
       "2018-07-01  0.045676  0.086814 -0.111877  0.075753 -0.130660  0.036022\n",
       "2018-08-01  0.132364  0.003732  0.018252  0.058918  0.011807  0.030263\n",
       "2018-09-01 -0.004824 -0.020068 -0.064132  0.022079 -0.122290  0.004294"
      ]
     },
     "execution_count": 8,
     "metadata": {},
     "output_type": "execute_result"
    }
   ],
   "source": [
    "ret.head()"
   ]
  },
  {
   "cell_type": "code",
   "execution_count": 9,
   "metadata": {},
   "outputs": [
    {
     "data": {
      "text/plain": [
       "<matplotlib.legend.Legend at 0x21f7a350730>"
      ]
     },
     "execution_count": 9,
     "metadata": {},
     "output_type": "execute_result"
    },
    {
     "data": {
      "image/png": "[encoded data removed]",
      "text/plain": [
       "<Figure size 432x288 with 1 Axes>"
      ]
     },
     "metadata": {
      "needs_background": "light"
     },
     "output_type": "display_data"
    }
   ],
   "source": [
    "ret.plot()\n",
    "plt.title(\"Gráfica de rendimientos\")\n",
    "plt.legend(bbox_to_anchor = (1,1), loc = \"upper left\")"
   ]
  },
  {
   "cell_type": "markdown",
   "metadata": {},
   "source": [
    "## 3. Calculando los coeficientes $\\beta$ (50 puntos)\n",
    "\n",
    "Usando los datos de rendimientos mensuales calculados en el punto anterior:\n",
    "\n",
    "1. Estime el valor del coeficiente de riesgo sistemático $\\beta$ para cada uno de los activos seleccionados, con el método visto en clase (5 puntos por cada activo).\n",
    "2. Compare su estimación de $\\beta$ con el valor reportado en Yahoo! Finance mediante el error relativo: \n",
    "$$e_{relativo}=\\frac{|\\beta_{estimado}-\\beta_{Yahoo!}|}{\\beta_{Yahoo!}}.$$\n",
    "Concluya de acuerdo al valor del error relativo obtenido (5 puntos por cada activo)."
   ]
  },
  {
   "cell_type": "code",
   "execution_count": 10,
   "metadata": {
    "scrolled": true
   },
   "outputs": [
    {
     "data": {
      "text/html": [
       "<div>\n",
       "<style scoped>\n",
       "    .dataframe tbody tr th:only-of-type {\n",
       "        vertical-align: middle;\n",
       "    }\n",
       "\n",
       "    .dataframe tbody tr th {\n",
       "        vertical-align: top;\n",
       "    }\n",
       "\n",
       "    .dataframe thead th {\n",
       "        text-align: right;\n",
       "    }\n",
       "</style>\n",
       "<table border=\"1\" class=\"dataframe\">\n",
       "  <thead>\n",
       "    <tr style=\"text-align: right;\">\n",
       "      <th></th>\n",
       "      <th>AMZN</th>\n",
       "      <th>GOOGL</th>\n",
       "      <th>META</th>\n",
       "      <th>MSFT</th>\n",
       "      <th>TSLA</th>\n",
       "      <th>^GSPC</th>\n",
       "    </tr>\n",
       "  </thead>\n",
       "  <tbody>\n",
       "    <tr>\n",
       "      <th>AMZN</th>\n",
       "      <td>0.009807</td>\n",
       "      <td>0.004978</td>\n",
       "      <td>0.005785</td>\n",
       "      <td>0.004405</td>\n",
       "      <td>0.011405</td>\n",
       "      <td>0.003650</td>\n",
       "    </tr>\n",
       "    <tr>\n",
       "      <th>GOOGL</th>\n",
       "      <td>0.004978</td>\n",
       "      <td>0.005826</td>\n",
       "      <td>0.004689</td>\n",
       "      <td>0.003569</td>\n",
       "      <td>0.007253</td>\n",
       "      <td>0.003179</td>\n",
       "    </tr>\n",
       "    <tr>\n",
       "      <th>META</th>\n",
       "      <td>0.005785</td>\n",
       "      <td>0.004689</td>\n",
       "      <td>0.014286</td>\n",
       "      <td>0.004011</td>\n",
       "      <td>0.008490</td>\n",
       "      <td>0.003452</td>\n",
       "    </tr>\n",
       "    <tr>\n",
       "      <th>MSFT</th>\n",
       "      <td>0.004405</td>\n",
       "      <td>0.003569</td>\n",
       "      <td>0.004011</td>\n",
       "      <td>0.004050</td>\n",
       "      <td>0.006964</td>\n",
       "      <td>0.002673</td>\n",
       "    </tr>\n",
       "    <tr>\n",
       "      <th>TSLA</th>\n",
       "      <td>0.011405</td>\n",
       "      <td>0.007253</td>\n",
       "      <td>0.008490</td>\n",
       "      <td>0.006964</td>\n",
       "      <td>0.047869</td>\n",
       "      <td>0.005809</td>\n",
       "    </tr>\n",
       "    <tr>\n",
       "      <th>^GSPC</th>\n",
       "      <td>0.003650</td>\n",
       "      <td>0.003179</td>\n",
       "      <td>0.003452</td>\n",
       "      <td>0.002673</td>\n",
       "      <td>0.005809</td>\n",
       "      <td>0.002891</td>\n",
       "    </tr>\n",
       "  </tbody>\n",
       "</table>\n",
       "</div>"
      ],
      "text/plain": [
       "           AMZN     GOOGL      META      MSFT      TSLA     ^GSPC\n",
       "AMZN   0.009807  0.004978  0.005785  0.004405  0.011405  0.003650\n",
       "GOOGL  0.004978  0.005826  0.004689  0.003569  0.007253  0.003179\n",
       "META   0.005785  0.004689  0.014286  0.004011  0.008490  0.003452\n",
       "MSFT   0.004405  0.003569  0.004011  0.004050  0.006964  0.002673\n",
       "TSLA   0.011405  0.007253  0.008490  0.006964  0.047869  0.005809\n",
       "^GSPC  0.003650  0.003179  0.003452  0.002673  0.005809  0.002891"
      ]
     },
     "execution_count": 10,
     "metadata": {},
     "output_type": "execute_result"
    }
   ],
   "source": [
    "sigma = ret.cov()\n",
    "sigma"
   ]
  },
  {
   "cell_type": "code",
   "execution_count": 11,
   "metadata": {},
   "outputs": [
    {
     "data": {
      "text/plain": [
       "(1.2627735232459538,\n",
       " 1.0997601164126276,\n",
       " 1.1943596513950065,\n",
       " 0.9248211160961518,\n",
       " 2.0096480310316527)"
      ]
     },
     "execution_count": 11,
     "metadata": {},
     "output_type": "execute_result"
    }
   ],
   "source": [
    "# Beta de cada activo con el proceso de clase\n",
    "# Amazon\n",
    "beta_amzn = sigma.loc[\"AMZN\", \"^GSPC\"] / sigma.loc[\"^GSPC\", \"^GSPC\"]\n",
    "# Google\n",
    "beta_googl = sigma.loc[\"GOOGL\", \"^GSPC\"] / sigma.loc[\"^GSPC\", \"^GSPC\"]\n",
    "# Meta\n",
    "beta_meta = sigma.loc[\"META\", \"^GSPC\"] / sigma.loc[\"^GSPC\", \"^GSPC\"]\n",
    "# Microsoft\n",
    "beta_msft = sigma.loc[\"MSFT\", \"^GSPC\"] / sigma.loc[\"^GSPC\", \"^GSPC\"]\n",
    "# Tesla\n",
    "beta_tsla = sigma.loc[\"TSLA\", \"^GSPC\"] / sigma.loc[\"^GSPC\", \"^GSPC\"]\n",
    "\n",
    "beta_amzn, beta_googl, beta_meta, beta_msft, beta_tsla"
   ]
  },
  {
   "cell_type": "code",
   "execution_count": 15,
   "metadata": {},
   "outputs": [],
   "source": [
    "# Betas en Yahoo\n",
    "\n",
    "# Instalar la última versión de yfinance \n",
    "# para el funcionamiento de yfinance.Ticker().info \n",
    "\n",
    "## Instalación: \"conda install -c conda-forge yfinance\" en Anaconda prompt\n",
    "def get_beta(tkr):\n",
    "    ticker = yf.Ticker(tkr)\n",
    "    info = ticker.info\n",
    "    return info.get(\"beta\")\n",
    "\n",
    "# Obtener betas desde Yahoo Finance\n",
    "b_amzn = get_beta(\"AMZN\")\n",
    "b_googl = get_beta(\"GOOGL\")\n",
    "b_meta = get_beta(\"META\")\n",
    "b_msft = get_beta(\"MSFT\")\n",
    "b_tsla = get_beta(\"TSLA\")\n",
    "\n",
    "\n",
    "#Obtener los errores\n",
    "def get_error(b_estimada,b_yahoo):\n",
    "    return (abs(b_estimada - b_yahoo)/b_yahoo)\n",
    "\n",
    "error_amzn = get_error(beta_amzn, b_amzn)\n",
    "error_googl = get_error(beta_googl, b_googl)\n",
    "error_meta = get_error(beta_meta, b_meta)\n",
    "error_msft = get_error(beta_msft, b_msft)\n",
    "error_tsla = get_error(beta_tsla, b_tsla)"
   ]
  },
  {
   "cell_type": "code",
   "execution_count": 16,
   "metadata": {},
   "outputs": [
    {
     "data": {
      "text/html": [
       "<div>\n",
       "<style scoped>\n",
       "    .dataframe tbody tr th:only-of-type {\n",
       "        vertical-align: middle;\n",
       "    }\n",
       "\n",
       "    .dataframe tbody tr th {\n",
       "        vertical-align: top;\n",
       "    }\n",
       "\n",
       "    .dataframe thead th {\n",
       "        text-align: right;\n",
       "    }\n",
       "</style>\n",
       "<table border=\"1\" class=\"dataframe\">\n",
       "  <thead>\n",
       "    <tr style=\"text-align: right;\">\n",
       "      <th></th>\n",
       "      <th>Beta estimada</th>\n",
       "      <th>Beta Yahoo</th>\n",
       "      <th>Error relativo</th>\n",
       "    </tr>\n",
       "  </thead>\n",
       "  <tbody>\n",
       "    <tr>\n",
       "      <th>AMZN</th>\n",
       "      <td>1.262774</td>\n",
       "      <td>1.262975</td>\n",
       "      <td>0.000160</td>\n",
       "    </tr>\n",
       "    <tr>\n",
       "      <th>GOOGL</th>\n",
       "      <td>1.099760</td>\n",
       "      <td>1.099653</td>\n",
       "      <td>0.000097</td>\n",
       "    </tr>\n",
       "    <tr>\n",
       "      <th>META</th>\n",
       "      <td>1.194360</td>\n",
       "      <td>1.194463</td>\n",
       "      <td>0.000087</td>\n",
       "    </tr>\n",
       "    <tr>\n",
       "      <th>MSFT</th>\n",
       "      <td>0.924821</td>\n",
       "      <td>0.929757</td>\n",
       "      <td>0.005309</td>\n",
       "    </tr>\n",
       "    <tr>\n",
       "      <th>TSLA</th>\n",
       "      <td>2.009648</td>\n",
       "      <td>2.012110</td>\n",
       "      <td>0.001224</td>\n",
       "    </tr>\n",
       "  </tbody>\n",
       "</table>\n",
       "</div>"
      ],
      "text/plain": [
       "       Beta estimada  Beta Yahoo  Error relativo\n",
       "AMZN        1.262774    1.262975        0.000160\n",
       "GOOGL       1.099760    1.099653        0.000097\n",
       "META        1.194360    1.194463        0.000087\n",
       "MSFT        0.924821    0.929757        0.005309\n",
       "TSLA        2.009648    2.012110        0.001224"
      ]
     },
     "execution_count": 16,
     "metadata": {},
     "output_type": "execute_result"
    }
   ],
   "source": [
    "errores = pd.DataFrame(data = {\n",
    "    'Beta estimada': [beta_amzn, beta_googl, beta_meta, beta_msft, beta_tsla],\n",
    "    'Beta Yahoo': [b_amzn, b_googl, b_meta, b_msft, b_tsla],\n",
    "    'Error relativo':[error_amzn, error_googl, error_meta, error_msft, error_tsla]\n",
    "},\n",
    "index = ['AMZN', 'GOOGL', 'META', 'MSFT', 'TSLA'] )\n",
    "\n",
    "errores"
   ]
  },
  {
   "cell_type": "markdown",
   "metadata": {},
   "source": [
    "**Conclusión general**\n",
    "\n",
    "En todos los activos al obtener el error relativo, nos podemos dar cuenta que nuestra estimación  de la beta es correcta, ya que el valor del error es muy pequeño."
   ]
  },
  {
   "cell_type": "markdown",
   "metadata": {},
   "source": [
    "## 4. Gráfico y conclusiones (30 puntos)\n",
    "\n",
    "1. Grafique cada uno de los activos en el espacio de $E[r]$ (eje $y$) vs. $\\beta$ (eje $x$) (10 puntos).\n",
    "2. Ajuste una línea recta a los puntos obtenidos. Dar la ecuación (10 puntos).\n",
    "3. De la ecuación obtenida, identifique el valor de la tasa libre de riesgo $r_f$, y el valor del rendimiento esperado del portafolio de mercado $E[r_M]$. Compare este último con el rendimiento esperado del índice S&P500 (10 puntos)."
   ]
  },
  {
   "cell_type": "code",
   "execution_count": 21,
   "metadata": {},
   "outputs": [],
   "source": [
    "from sklearn.linear_model import LinearRegression"
   ]
  },
  {
   "cell_type": "code",
   "execution_count": 27,
   "metadata": {},
   "outputs": [
    {
     "data": {
      "text/html": [
       "<div>\n",
       "<style scoped>\n",
       "    .dataframe tbody tr th:only-of-type {\n",
       "        vertical-align: middle;\n",
       "    }\n",
       "\n",
       "    .dataframe tbody tr th {\n",
       "        vertical-align: top;\n",
       "    }\n",
       "\n",
       "    .dataframe thead th {\n",
       "        text-align: right;\n",
       "    }\n",
       "</style>\n",
       "<table border=\"1\" class=\"dataframe\">\n",
       "  <thead>\n",
       "    <tr style=\"text-align: right;\">\n",
       "      <th></th>\n",
       "      <th>AMZN</th>\n",
       "      <th>GOOGL</th>\n",
       "      <th>META</th>\n",
       "      <th>MSFT</th>\n",
       "      <th>TSLA</th>\n",
       "      <th>^GSPC</th>\n",
       "    </tr>\n",
       "  </thead>\n",
       "  <tbody>\n",
       "    <tr>\n",
       "      <th>Media</th>\n",
       "      <td>0.110492</td>\n",
       "      <td>0.179223</td>\n",
       "      <td>0.132594</td>\n",
       "      <td>0.26256</td>\n",
       "      <td>0.704388</td>\n",
       "      <td>0.107643</td>\n",
       "    </tr>\n",
       "    <tr>\n",
       "      <th>Beta</th>\n",
       "      <td>1.262774</td>\n",
       "      <td>1.09976</td>\n",
       "      <td>1.19436</td>\n",
       "      <td>0.924821</td>\n",
       "      <td>2.009648</td>\n",
       "      <td>1</td>\n",
       "    </tr>\n",
       "  </tbody>\n",
       "</table>\n",
       "</div>"
      ],
      "text/plain": [
       "           AMZN     GOOGL      META      MSFT      TSLA     ^GSPC\n",
       "Media  0.110492  0.179223  0.132594   0.26256  0.704388  0.107643\n",
       "Beta   1.262774   1.09976   1.19436  0.924821  2.009648         1"
      ]
     },
     "execution_count": 27,
     "metadata": {},
     "output_type": "execute_result"
    }
   ],
   "source": [
    "data = pd.DataFrame(index = ['Media', 'Beta'], columns = ['AMZN', 'GOOGL', 'META', 'MSFT', 'TSLA', '^GSPC'])\n",
    "                    \n",
    "data.loc['Media'] = ret.mean()*12 #Rendimiento anual\n",
    "data.loc['Beta'] = [beta_amzn, beta_googl, beta_meta, beta_msft, beta_tsla, 1]\n",
    "\n",
    "data"
   ]
  },
  {
   "cell_type": "code",
   "execution_count": 28,
   "metadata": {},
   "outputs": [
    {
     "name": "stdout",
     "output_type": "stream",
     "text": [
      "Ecuación: -0.3853162487887112 + 0.5084250595171191 vol\n"
     ]
    }
   ],
   "source": [
    "model = LinearRegression()\n",
    "model.fit(\n",
    "    X = data.loc[\"Beta\"].values.reshape(-1,1),\n",
    "    y = data.loc[\"Media\"].values)\n",
    "\n",
    "b = [model.intercept_, model.coef_[0]]\n",
    "print(\"Ecuación: {} + {} vol\".format(b[0], b[1]))"
   ]
  },
  {
   "cell_type": "code",
   "execution_count": 31,
   "metadata": {},
   "outputs": [
    {
     "data": {
      "text/plain": [
       "<matplotlib.legend.Legend at 0x21f7db81580>"
      ]
     },
     "execution_count": 31,
     "metadata": {},
     "output_type": "execute_result"
    },
    {
     "data": {
      "image/png": "[encoded data removed]",
      "text/plain": [
       "<Figure size 432x288 with 1 Axes>"
      ]
     },
     "metadata": {
      "needs_background": "light"
     },
     "output_type": "display_data"
    }
   ],
   "source": [
    "for i in range(len(data.axes[1])):\n",
    "    plt.plot(data.iloc[1, i], data.iloc[0, i], \"^\", ms=10, label=data.columns[i])\n",
    "    \n",
    "plt.plot(data.iloc[1].values, model.predict(data.iloc[1].values.reshape([-1, 1])))\n",
    "\n",
    "plt.xlabel(\"Volatilidad\")\n",
    "plt.ylabel(\"Rendimiento esperado\")\n",
    "plt.legend()"
   ]
  },
  {
   "cell_type": "code",
   "execution_count": 44,
   "metadata": {},
   "outputs": [
    {
     "name": "stdout",
     "output_type": "stream",
     "text": [
      "Ecuación: -0.3853162487887112 + 0.5084250595171191 vol\n",
      "Tasa libre de riesgo: -38.53%\n",
      "Rendimiento esperando SP500: 10.76%\n",
      "Rendimiento esperado del portafolio de mercado E[rM]: 12.31%\n"
     ]
    }
   ],
   "source": [
    "print(\"Ecuación: {} + {} vol\".format(b[0], b[1]))\n",
    "print(\"Tasa libre de riesgo: {}%\".format(round(b[0]*100,2)))\n",
    "print(\"Rendimiento esperando SP500: {}%\".format(round(data.iloc[0, -1]*100, 2)))\n",
    "print(\"Rendimiento esperado del portafolio de mercado E[rM]: {}%\".format(round((b[0]+b[1])*100, 2)))"
   ]
  },
  {
   "cell_type": "markdown",
   "metadata": {},
   "source": [
    "Suponiendo un mercado con los activos utilizados en este ejercicio, este tendría una tasa libre de riesgo de -38.53%.\n",
    "\n",
    "El rendimiento esperado de nuestro portafolio es mayor que el rendimiento esperado del índice por sí solo."
   ]
  },
  {
   "cell_type": "markdown",
   "metadata": {},
   "source": [
    "<script>\n",
    "  $(document).ready(function(){\n",
    "    $('div.prompt').hide();\n",
    "    $('div.back-to-top').hide();\n",
    "    $('nav#menubar').hide();\n",
    "    $('.breadcrumb').hide();\n",
    "    $('.hidden-print').hide();\n",
    "  });\n",
    "</script>\n",
    "\n",
    "<footer id=\"attribution\" style=\"float:right; color:#808080; background:#fff;\">\n",
    "Created with Jupyter by Esteban Jiménez Rodríguez.\n",
    "</footer>"
   ]
  }
 ],
 "metadata": {
  "kernelspec": {
   "display_name": "Python 3 (ipykernel)",
   "language": "python",
   "name": "python3"
  },
  "language_info": {
   "codemirror_mode": {
    "name": "ipython",
    "version": 3
   },
   "file_extension": ".py",
   "mimetype": "text/x-python",
   "name": "python",
   "nbconvert_exporter": "python",
   "pygments_lexer": "ipython3",
   "version": "3.9.12"
  }
 },
 "nbformat": 4,
 "nbformat_minor": 2
}
