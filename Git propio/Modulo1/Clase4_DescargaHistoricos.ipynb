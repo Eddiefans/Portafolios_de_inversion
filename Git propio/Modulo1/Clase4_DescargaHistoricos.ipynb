{
 "cells": [
  {
   "cell_type": "markdown",
   "metadata": {},
   "source": [
    "# Descarga de históricos de precios\n",
    "\n",
    "<img style=\"float: right; margin: 0px 0px 15px 15px;\" src=\"https://upload.wikimedia.org/wikipedia/commons/7/7d/Copper_Price_History_USD.png\" width=\"600px\" height=\"400px\" />\n",
    "\n",
    "> Entonces, en la clase anterior vimos que podemos caracterizar la distribución de rendimientos de un activo mediante una medida de tendencia central (media: rendimiento esperado) y una medida de dispersión (desviación estándar: volatilidad). \n",
    "\n",
    "> Estas medidas se pueden calcular cuando tenemos escenarios probables de la economía y conocemos sus probabilidades de ocurrencia. Ahora, si no conocemos dichos escenarios, ¿qué podemos hacer?"
   ]
  },
  {
   "cell_type": "markdown",
   "metadata": {},
   "source": [
    "*Objetivos:*\n",
    "- Aprender a importar datos desde archivos separados por comas y de excel (extensión `.csv` y `.xlsx`).\n",
    "- Descargar el paquete `pandas-datareader`.\n",
    "- Aprender a descargar datos desde fuentes remotas.\n",
    "\n",
    "**Referencias:**\n",
    "- http://pandas.pydata.org/\n",
    "- https://pandas-datareader.readthedocs.io/en/latest/"
   ]
  },
  {
   "cell_type": "markdown",
   "metadata": {},
   "source": [
    "## 1. Importar datos desde archivos locales\n",
    "\n",
    "<img style=\"float: right; margin: 0px 0px 15px 15px;\" src=\"https://upload.wikimedia.org/wikipedia/commons/0/0a/Python.svg\" width=\"300px\" height=\"125px\" />"
   ]
  },
  {
   "cell_type": "markdown",
   "metadata": {},
   "source": [
    "### 1.1. ¿Porqué?\n",
    "\n",
    "- Muchas veces tenemos bases de datos proporcionadas como archivos locales.\n",
    "- Para poder analizar, procesar y tomar decisiones con estos datos, es necesario importarlos a python.\n",
    "- Ejemplos de archivos donde comúnmente se guardan bases de datos son: \n",
    " - `.xls` o `.xlsx`\n",
    " -  `.csv`\n",
    "- Excel es ampliamente usado en distintos campos de aplicación en todo el mundo.\n",
    "- Nos guste o no, esto también aplica a ciencia de datos (ingeniería financiera).\n",
    "- Muchos de ustedes en su futuro académico y profesional tendrán que trabajar con estas hojas de cálculo, pero no siempre querrán trabajar directamente con ellas si tienen que hacer un análisis un poco más avanzado de los datos.\n",
    "- Por eso en Python se han implementado herramientas para leer, escribir y manipular este tipo de archivos.\n",
    "\n",
    "En esta clase veremos cómo podemos trabajar con Excel y Python de manera básica utilizando la librería *pandas*."
   ]
  },
  {
   "cell_type": "markdown",
   "metadata": {},
   "source": [
    "**Actividad.** Descargar precios de acciones de Apple (AAPL) de Yahoo Finance, con una ventana de tiempo desde el 01-01-2015 a hoy y frecuencia diaria.\n",
    "\n",
    "- Ir a https://finance.yahoo.com/.\n",
    "- Buscar cada una de las compañías solicitadas.\n",
    "- Dar click en la pestaña *'Historical Data'*.\n",
    "- Cambiar las fechas en *'Time Period'*, click en *'Apply'* y, finalmente, click en *'Download Data'*.\n",
    "- **¡POR FAVOR! GUARDAR ESTOS ARCHIVOS EN UNA CARPETA LLAMADA precios EN EL MISMO DIRECTORIO DONDE TIENEN ESTE ARCHIVO**."
   ]
  },
  {
   "cell_type": "markdown",
   "metadata": {},
   "source": [
    "### 1.3. Carguemos archivos .csv como ventanas de datos de pandas\n",
    "\n",
    "Ahora podemos comenzar a importar nuestros archivos.\n",
    "\n",
    "Una de las formas más comunes de trabajar con análisis de datos es en pandas. Esto es debido a que pandas está construido sobre NumPy y provee estructuras de datos y herramientas de análisis fáciles de usar."
   ]
  },
  {
   "cell_type": "code",
   "execution_count": 1,
   "metadata": {},
   "outputs": [],
   "source": [
    "# Importamos pandas\n",
    "import pandas as pd"
   ]
  },
  {
   "cell_type": "markdown",
   "metadata": {},
   "source": [
    "Para leer archivos `.csv`, utilizaremos la función `read_csv` de pandas:"
   ]
  },
  {
   "cell_type": "code",
   "execution_count": 2,
   "metadata": {},
   "outputs": [],
   "source": [
    "# Cargamos hoja de calculo en un dataframe\n",
    "aapl_yf = pd.read_csv(\"precios/AAPL.csv\")"
   ]
  },
  {
   "cell_type": "code",
   "execution_count": 6,
   "metadata": {
    "scrolled": true
   },
   "outputs": [
    {
     "data": {
      "text/html": [
       "<div>\n",
       "<style scoped>\n",
       "    .dataframe tbody tr th:only-of-type {\n",
       "        vertical-align: middle;\n",
       "    }\n",
       "\n",
       "    .dataframe tbody tr th {\n",
       "        vertical-align: top;\n",
       "    }\n",
       "\n",
       "    .dataframe thead th {\n",
       "        text-align: right;\n",
       "    }\n",
       "</style>\n",
       "<table border=\"1\" class=\"dataframe\">\n",
       "  <thead>\n",
       "    <tr style=\"text-align: right;\">\n",
       "      <th></th>\n",
       "      <th>Date</th>\n",
       "      <th>Open</th>\n",
       "      <th>High</th>\n",
       "      <th>Low</th>\n",
       "      <th>Close</th>\n",
       "      <th>Adj Close</th>\n",
       "      <th>Volume</th>\n",
       "    </tr>\n",
       "  </thead>\n",
       "  <tbody>\n",
       "    <tr>\n",
       "      <th>0</th>\n",
       "      <td>2017-08-29</td>\n",
       "      <td>40.025002</td>\n",
       "      <td>40.779999</td>\n",
       "      <td>40.000000</td>\n",
       "      <td>40.727501</td>\n",
       "      <td>38.653061</td>\n",
       "      <td>118067600</td>\n",
       "    </tr>\n",
       "    <tr>\n",
       "      <th>1</th>\n",
       "      <td>2017-08-30</td>\n",
       "      <td>40.950001</td>\n",
       "      <td>40.972500</td>\n",
       "      <td>40.652500</td>\n",
       "      <td>40.837502</td>\n",
       "      <td>38.757465</td>\n",
       "      <td>109078400</td>\n",
       "    </tr>\n",
       "    <tr>\n",
       "      <th>2</th>\n",
       "      <td>2017-08-31</td>\n",
       "      <td>40.910000</td>\n",
       "      <td>41.130001</td>\n",
       "      <td>40.869999</td>\n",
       "      <td>41.000000</td>\n",
       "      <td>38.911686</td>\n",
       "      <td>107140400</td>\n",
       "    </tr>\n",
       "    <tr>\n",
       "      <th>3</th>\n",
       "      <td>2017-09-01</td>\n",
       "      <td>41.200001</td>\n",
       "      <td>41.235001</td>\n",
       "      <td>40.907501</td>\n",
       "      <td>41.012501</td>\n",
       "      <td>38.923546</td>\n",
       "      <td>66364400</td>\n",
       "    </tr>\n",
       "    <tr>\n",
       "      <th>4</th>\n",
       "      <td>2017-09-05</td>\n",
       "      <td>40.937500</td>\n",
       "      <td>41.062500</td>\n",
       "      <td>40.139999</td>\n",
       "      <td>40.520000</td>\n",
       "      <td>38.456127</td>\n",
       "      <td>117874000</td>\n",
       "    </tr>\n",
       "    <tr>\n",
       "      <th>...</th>\n",
       "      <td>...</td>\n",
       "      <td>...</td>\n",
       "      <td>...</td>\n",
       "      <td>...</td>\n",
       "      <td>...</td>\n",
       "      <td>...</td>\n",
       "      <td>...</td>\n",
       "    </tr>\n",
       "    <tr>\n",
       "      <th>1253</th>\n",
       "      <td>2022-08-22</td>\n",
       "      <td>169.690002</td>\n",
       "      <td>169.860001</td>\n",
       "      <td>167.139999</td>\n",
       "      <td>167.570007</td>\n",
       "      <td>167.570007</td>\n",
       "      <td>69026800</td>\n",
       "    </tr>\n",
       "    <tr>\n",
       "      <th>1254</th>\n",
       "      <td>2022-08-23</td>\n",
       "      <td>167.080002</td>\n",
       "      <td>168.710007</td>\n",
       "      <td>166.649994</td>\n",
       "      <td>167.229996</td>\n",
       "      <td>167.229996</td>\n",
       "      <td>54147100</td>\n",
       "    </tr>\n",
       "    <tr>\n",
       "      <th>1255</th>\n",
       "      <td>2022-08-24</td>\n",
       "      <td>167.320007</td>\n",
       "      <td>168.110001</td>\n",
       "      <td>166.250000</td>\n",
       "      <td>167.529999</td>\n",
       "      <td>167.529999</td>\n",
       "      <td>53841500</td>\n",
       "    </tr>\n",
       "    <tr>\n",
       "      <th>1256</th>\n",
       "      <td>2022-08-25</td>\n",
       "      <td>168.779999</td>\n",
       "      <td>170.139999</td>\n",
       "      <td>168.350006</td>\n",
       "      <td>170.029999</td>\n",
       "      <td>170.029999</td>\n",
       "      <td>51218200</td>\n",
       "    </tr>\n",
       "    <tr>\n",
       "      <th>1257</th>\n",
       "      <td>2022-08-26</td>\n",
       "      <td>170.570007</td>\n",
       "      <td>171.050003</td>\n",
       "      <td>163.559998</td>\n",
       "      <td>163.619995</td>\n",
       "      <td>163.619995</td>\n",
       "      <td>78823500</td>\n",
       "    </tr>\n",
       "  </tbody>\n",
       "</table>\n",
       "<p>1258 rows × 7 columns</p>\n",
       "</div>"
      ],
      "text/plain": [
       "            Date        Open        High         Low       Close   Adj Close  \\\n",
       "0     2017-08-29   40.025002   40.779999   40.000000   40.727501   38.653061   \n",
       "1     2017-08-30   40.950001   40.972500   40.652500   40.837502   38.757465   \n",
       "2     2017-08-31   40.910000   41.130001   40.869999   41.000000   38.911686   \n",
       "3     2017-09-01   41.200001   41.235001   40.907501   41.012501   38.923546   \n",
       "4     2017-09-05   40.937500   41.062500   40.139999   40.520000   38.456127   \n",
       "...          ...         ...         ...         ...         ...         ...   \n",
       "1253  2022-08-22  169.690002  169.860001  167.139999  167.570007  167.570007   \n",
       "1254  2022-08-23  167.080002  168.710007  166.649994  167.229996  167.229996   \n",
       "1255  2022-08-24  167.320007  168.110001  166.250000  167.529999  167.529999   \n",
       "1256  2022-08-25  168.779999  170.139999  168.350006  170.029999  170.029999   \n",
       "1257  2022-08-26  170.570007  171.050003  163.559998  163.619995  163.619995   \n",
       "\n",
       "         Volume  \n",
       "0     118067600  \n",
       "1     109078400  \n",
       "2     107140400  \n",
       "3      66364400  \n",
       "4     117874000  \n",
       "...         ...  \n",
       "1253   69026800  \n",
       "1254   54147100  \n",
       "1255   53841500  \n",
       "1256   51218200  \n",
       "1257   78823500  \n",
       "\n",
       "[1258 rows x 7 columns]"
      ]
     },
     "execution_count": 6,
     "metadata": {},
     "output_type": "execute_result"
    }
   ],
   "source": [
    "aapl_yf"
   ]
  },
  {
   "cell_type": "markdown",
   "metadata": {},
   "source": [
    "#### Anotación #1\n",
    "- Quisieramos indizar por fecha."
   ]
  },
  {
   "cell_type": "code",
   "execution_count": 7,
   "metadata": {},
   "outputs": [],
   "source": [
    "# Cargamos hoja de calculo en un dataframe\n",
    "aapl_yf = pd.read_csv(\n",
    "    \"precios/AAPL.csv\",\n",
    "    index_col=[\"Date\"]\n",
    ")"
   ]
  },
  {
   "cell_type": "code",
   "execution_count": 8,
   "metadata": {},
   "outputs": [
    {
     "data": {
      "text/html": [
       "<div>\n",
       "<style scoped>\n",
       "    .dataframe tbody tr th:only-of-type {\n",
       "        vertical-align: middle;\n",
       "    }\n",
       "\n",
       "    .dataframe tbody tr th {\n",
       "        vertical-align: top;\n",
       "    }\n",
       "\n",
       "    .dataframe thead th {\n",
       "        text-align: right;\n",
       "    }\n",
       "</style>\n",
       "<table border=\"1\" class=\"dataframe\">\n",
       "  <thead>\n",
       "    <tr style=\"text-align: right;\">\n",
       "      <th></th>\n",
       "      <th>Open</th>\n",
       "      <th>High</th>\n",
       "      <th>Low</th>\n",
       "      <th>Close</th>\n",
       "      <th>Adj Close</th>\n",
       "      <th>Volume</th>\n",
       "    </tr>\n",
       "    <tr>\n",
       "      <th>Date</th>\n",
       "      <th></th>\n",
       "      <th></th>\n",
       "      <th></th>\n",
       "      <th></th>\n",
       "      <th></th>\n",
       "      <th></th>\n",
       "    </tr>\n",
       "  </thead>\n",
       "  <tbody>\n",
       "    <tr>\n",
       "      <th>2017-08-29</th>\n",
       "      <td>40.025002</td>\n",
       "      <td>40.779999</td>\n",
       "      <td>40.000000</td>\n",
       "      <td>40.727501</td>\n",
       "      <td>38.653061</td>\n",
       "      <td>118067600</td>\n",
       "    </tr>\n",
       "    <tr>\n",
       "      <th>2017-08-30</th>\n",
       "      <td>40.950001</td>\n",
       "      <td>40.972500</td>\n",
       "      <td>40.652500</td>\n",
       "      <td>40.837502</td>\n",
       "      <td>38.757465</td>\n",
       "      <td>109078400</td>\n",
       "    </tr>\n",
       "    <tr>\n",
       "      <th>2017-08-31</th>\n",
       "      <td>40.910000</td>\n",
       "      <td>41.130001</td>\n",
       "      <td>40.869999</td>\n",
       "      <td>41.000000</td>\n",
       "      <td>38.911686</td>\n",
       "      <td>107140400</td>\n",
       "    </tr>\n",
       "    <tr>\n",
       "      <th>2017-09-01</th>\n",
       "      <td>41.200001</td>\n",
       "      <td>41.235001</td>\n",
       "      <td>40.907501</td>\n",
       "      <td>41.012501</td>\n",
       "      <td>38.923546</td>\n",
       "      <td>66364400</td>\n",
       "    </tr>\n",
       "    <tr>\n",
       "      <th>2017-09-05</th>\n",
       "      <td>40.937500</td>\n",
       "      <td>41.062500</td>\n",
       "      <td>40.139999</td>\n",
       "      <td>40.520000</td>\n",
       "      <td>38.456127</td>\n",
       "      <td>117874000</td>\n",
       "    </tr>\n",
       "    <tr>\n",
       "      <th>...</th>\n",
       "      <td>...</td>\n",
       "      <td>...</td>\n",
       "      <td>...</td>\n",
       "      <td>...</td>\n",
       "      <td>...</td>\n",
       "      <td>...</td>\n",
       "    </tr>\n",
       "    <tr>\n",
       "      <th>2022-08-22</th>\n",
       "      <td>169.690002</td>\n",
       "      <td>169.860001</td>\n",
       "      <td>167.139999</td>\n",
       "      <td>167.570007</td>\n",
       "      <td>167.570007</td>\n",
       "      <td>69026800</td>\n",
       "    </tr>\n",
       "    <tr>\n",
       "      <th>2022-08-23</th>\n",
       "      <td>167.080002</td>\n",
       "      <td>168.710007</td>\n",
       "      <td>166.649994</td>\n",
       "      <td>167.229996</td>\n",
       "      <td>167.229996</td>\n",
       "      <td>54147100</td>\n",
       "    </tr>\n",
       "    <tr>\n",
       "      <th>2022-08-24</th>\n",
       "      <td>167.320007</td>\n",
       "      <td>168.110001</td>\n",
       "      <td>166.250000</td>\n",
       "      <td>167.529999</td>\n",
       "      <td>167.529999</td>\n",
       "      <td>53841500</td>\n",
       "    </tr>\n",
       "    <tr>\n",
       "      <th>2022-08-25</th>\n",
       "      <td>168.779999</td>\n",
       "      <td>170.139999</td>\n",
       "      <td>168.350006</td>\n",
       "      <td>170.029999</td>\n",
       "      <td>170.029999</td>\n",
       "      <td>51218200</td>\n",
       "    </tr>\n",
       "    <tr>\n",
       "      <th>2022-08-26</th>\n",
       "      <td>170.570007</td>\n",
       "      <td>171.050003</td>\n",
       "      <td>163.559998</td>\n",
       "      <td>163.619995</td>\n",
       "      <td>163.619995</td>\n",
       "      <td>78823500</td>\n",
       "    </tr>\n",
       "  </tbody>\n",
       "</table>\n",
       "<p>1258 rows × 6 columns</p>\n",
       "</div>"
      ],
      "text/plain": [
       "                  Open        High         Low       Close   Adj Close  \\\n",
       "Date                                                                     \n",
       "2017-08-29   40.025002   40.779999   40.000000   40.727501   38.653061   \n",
       "2017-08-30   40.950001   40.972500   40.652500   40.837502   38.757465   \n",
       "2017-08-31   40.910000   41.130001   40.869999   41.000000   38.911686   \n",
       "2017-09-01   41.200001   41.235001   40.907501   41.012501   38.923546   \n",
       "2017-09-05   40.937500   41.062500   40.139999   40.520000   38.456127   \n",
       "...                ...         ...         ...         ...         ...   \n",
       "2022-08-22  169.690002  169.860001  167.139999  167.570007  167.570007   \n",
       "2022-08-23  167.080002  168.710007  166.649994  167.229996  167.229996   \n",
       "2022-08-24  167.320007  168.110001  166.250000  167.529999  167.529999   \n",
       "2022-08-25  168.779999  170.139999  168.350006  170.029999  170.029999   \n",
       "2022-08-26  170.570007  171.050003  163.559998  163.619995  163.619995   \n",
       "\n",
       "               Volume  \n",
       "Date                   \n",
       "2017-08-29  118067600  \n",
       "2017-08-30  109078400  \n",
       "2017-08-31  107140400  \n",
       "2017-09-01   66364400  \n",
       "2017-09-05  117874000  \n",
       "...               ...  \n",
       "2022-08-22   69026800  \n",
       "2022-08-23   54147100  \n",
       "2022-08-24   53841500  \n",
       "2022-08-25   51218200  \n",
       "2022-08-26   78823500  \n",
       "\n",
       "[1258 rows x 6 columns]"
      ]
     },
     "execution_count": 8,
     "metadata": {},
     "output_type": "execute_result"
    }
   ],
   "source": [
    "aapl_yf"
   ]
  },
  {
   "cell_type": "code",
   "execution_count": 10,
   "metadata": {},
   "outputs": [
    {
     "data": {
      "text/plain": [
       "<AxesSubplot:xlabel='Date'>"
      ]
     },
     "execution_count": 10,
     "metadata": {},
     "output_type": "execute_result"
    },
    {
     "data": {
      "image/png": "[encoded data removed]",
      "text/plain": [
       "<Figure size 432x288 with 1 Axes>"
      ]
     },
     "metadata": {
      "needs_background": "light"
     },
     "output_type": "display_data"
    }
   ],
   "source": [
    "# Graficar precios de cierre y precios de cierre ajustados\n",
    "aapl_yf[[\"Close\", \"Adj Close\"]].plot()"
   ]
  },
  {
   "cell_type": "markdown",
   "metadata": {},
   "source": [
    "#### Anotación #2\n",
    "- Para nuestra aplicación solo nos interesan los precios de cierre de las acciones (columna Adj Close)."
   ]
  },
  {
   "cell_type": "code",
   "execution_count": 11,
   "metadata": {},
   "outputs": [],
   "source": [
    "# Cargamos hoja de calculo en un dataframe\n",
    "aapl_yf = pd.read_csv(\n",
    "    \"precios/AAPL.csv\",\n",
    "    index_col=[\"Date\"],\n",
    "    usecols=[\"Date\", \"Adj Close\"]\n",
    ")"
   ]
  },
  {
   "cell_type": "code",
   "execution_count": 14,
   "metadata": {},
   "outputs": [
    {
     "data": {
      "text/html": [
       "<div>\n",
       "<style scoped>\n",
       "    .dataframe tbody tr th:only-of-type {\n",
       "        vertical-align: middle;\n",
       "    }\n",
       "\n",
       "    .dataframe tbody tr th {\n",
       "        vertical-align: top;\n",
       "    }\n",
       "\n",
       "    .dataframe thead th {\n",
       "        text-align: right;\n",
       "    }\n",
       "</style>\n",
       "<table border=\"1\" class=\"dataframe\">\n",
       "  <thead>\n",
       "    <tr style=\"text-align: right;\">\n",
       "      <th></th>\n",
       "      <th>Adj Close</th>\n",
       "    </tr>\n",
       "    <tr>\n",
       "      <th>Date</th>\n",
       "      <th></th>\n",
       "    </tr>\n",
       "  </thead>\n",
       "  <tbody>\n",
       "    <tr>\n",
       "      <th>2017-08-29</th>\n",
       "      <td>38.653061</td>\n",
       "    </tr>\n",
       "    <tr>\n",
       "      <th>2017-08-30</th>\n",
       "      <td>38.757465</td>\n",
       "    </tr>\n",
       "    <tr>\n",
       "      <th>2017-08-31</th>\n",
       "      <td>38.911686</td>\n",
       "    </tr>\n",
       "    <tr>\n",
       "      <th>2017-09-01</th>\n",
       "      <td>38.923546</td>\n",
       "    </tr>\n",
       "    <tr>\n",
       "      <th>2017-09-05</th>\n",
       "      <td>38.456127</td>\n",
       "    </tr>\n",
       "  </tbody>\n",
       "</table>\n",
       "</div>"
      ],
      "text/plain": [
       "            Adj Close\n",
       "Date                 \n",
       "2017-08-29  38.653061\n",
       "2017-08-30  38.757465\n",
       "2017-08-31  38.911686\n",
       "2017-09-01  38.923546\n",
       "2017-09-05  38.456127"
      ]
     },
     "execution_count": 14,
     "metadata": {},
     "output_type": "execute_result"
    }
   ],
   "source": [
    "aapl_yf.head()"
   ]
  },
  {
   "cell_type": "code",
   "execution_count": null,
   "metadata": {},
   "outputs": [],
   "source": []
  },
  {
   "cell_type": "markdown",
   "metadata": {},
   "source": [
    "**Vamos ahora a importar el archivo que descargamos de factset**"
   ]
  },
  {
   "cell_type": "code",
   "execution_count": null,
   "metadata": {},
   "outputs": [],
   "source": []
  },
  {
   "cell_type": "code",
   "execution_count": 24,
   "metadata": {},
   "outputs": [],
   "source": [
    "# Usamos la función read_excel de pandas\n",
    "aapl_fs = pd.read_excel(\n",
    "    \"precios/PriceHistory.xlsx\", \n",
    "    sheet_name=\"Price History\",\n",
    "    skiprows=2,\n",
    "    index_col=[0],\n",
    "    usecols=[0, 1]\n",
    ")"
   ]
  },
  {
   "cell_type": "code",
   "execution_count": 25,
   "metadata": {},
   "outputs": [
    {
     "data": {
      "text/html": [
       "<div>\n",
       "<style scoped>\n",
       "    .dataframe tbody tr th:only-of-type {\n",
       "        vertical-align: middle;\n",
       "    }\n",
       "\n",
       "    .dataframe tbody tr th {\n",
       "        vertical-align: top;\n",
       "    }\n",
       "\n",
       "    .dataframe thead th {\n",
       "        text-align: right;\n",
       "    }\n",
       "</style>\n",
       "<table border=\"1\" class=\"dataframe\">\n",
       "  <thead>\n",
       "    <tr style=\"text-align: right;\">\n",
       "      <th></th>\n",
       "      <th>Price</th>\n",
       "    </tr>\n",
       "    <tr>\n",
       "      <th>Date</th>\n",
       "      <th></th>\n",
       "    </tr>\n",
       "  </thead>\n",
       "  <tbody>\n",
       "    <tr>\n",
       "      <th>2014-12-31</th>\n",
       "      <td>27.5950</td>\n",
       "    </tr>\n",
       "    <tr>\n",
       "      <th>2015-01-02</th>\n",
       "      <td>27.3325</td>\n",
       "    </tr>\n",
       "    <tr>\n",
       "      <th>2015-01-05</th>\n",
       "      <td>26.5625</td>\n",
       "    </tr>\n",
       "    <tr>\n",
       "      <th>2015-01-06</th>\n",
       "      <td>26.5650</td>\n",
       "    </tr>\n",
       "    <tr>\n",
       "      <th>2015-01-07</th>\n",
       "      <td>26.9375</td>\n",
       "    </tr>\n",
       "    <tr>\n",
       "      <th>...</th>\n",
       "      <td>...</td>\n",
       "    </tr>\n",
       "    <tr>\n",
       "      <th>2023-01-18</th>\n",
       "      <td>135.2100</td>\n",
       "    </tr>\n",
       "    <tr>\n",
       "      <th>2023-01-19</th>\n",
       "      <td>135.2700</td>\n",
       "    </tr>\n",
       "    <tr>\n",
       "      <th>2023-01-20</th>\n",
       "      <td>137.8700</td>\n",
       "    </tr>\n",
       "    <tr>\n",
       "      <th>2023-01-23</th>\n",
       "      <td>141.1100</td>\n",
       "    </tr>\n",
       "    <tr>\n",
       "      <th>2023-01-24</th>\n",
       "      <td>142.5300</td>\n",
       "    </tr>\n",
       "  </tbody>\n",
       "</table>\n",
       "<p>2030 rows × 1 columns</p>\n",
       "</div>"
      ],
      "text/plain": [
       "               Price\n",
       "Date                \n",
       "2014-12-31   27.5950\n",
       "2015-01-02   27.3325\n",
       "2015-01-05   26.5625\n",
       "2015-01-06   26.5650\n",
       "2015-01-07   26.9375\n",
       "...              ...\n",
       "2023-01-18  135.2100\n",
       "2023-01-19  135.2700\n",
       "2023-01-20  137.8700\n",
       "2023-01-23  141.1100\n",
       "2023-01-24  142.5300\n",
       "\n",
       "[2030 rows x 1 columns]"
      ]
     },
     "execution_count": 25,
     "metadata": {},
     "output_type": "execute_result"
    }
   ],
   "source": [
    "aapl_fs"
   ]
  },
  {
   "cell_type": "markdown",
   "metadata": {},
   "source": [
    "## 2. Descargar los datos remotamente\n",
    "Para esto utilizaremos el paquete *pandas_datareader*.\n",
    "\n",
    "**Nota**: Usualmente, las distribuciones de Python no cuentan, por defecto, con el paquete *pandas_datareader*. Por lo que será necesario instalarlo aparte:\n",
    "- buscar en inicio \"Anaconda prompt\" y ejecutarlo como administrador;\n",
    "- el siguiente comando instala el paquete en Anaconda: *conda install pandas-datareader*;\n",
    "- una vez finalice la instalación correr el comando: *conda list*, y buscar que sí se haya instalado pandas-datareader"
   ]
  },
  {
   "cell_type": "code",
   "execution_count": 27,
   "metadata": {
    "scrolled": true
   },
   "outputs": [],
   "source": [
    "# Importar el modulo data del paquete pandas_datareader. La comunidad lo importa con el nombre de web\n",
    "from pandas_datareader import data as web\n",
    "import yfinance\n",
    "\n",
    "yfinance.pdr_override() "
   ]
  },
  {
   "cell_type": "markdown",
   "metadata": {},
   "source": [
    "Para windows:\n",
    "\n",
    "- Ir al menú de inicio.\n",
    "- Buscar: \"Anaconda prompt\".\n",
    "- Abrir anaconda prompt.\n",
    "\n",
    "Para mac:\n",
    "\n",
    "- Abrir una consola de shell (bash).\n",
    "\n",
    "Para linux:\n",
    "\n",
    "- Abrir una consola."
   ]
  },
  {
   "cell_type": "markdown",
   "metadata": {},
   "source": [
    "El módulo data del paquete pandas_datareader contiene la funcion `DataReader`:"
   ]
  },
  {
   "cell_type": "code",
   "execution_count": null,
   "metadata": {
    "scrolled": true
   },
   "outputs": [],
   "source": [
    "# Función DataReader\n"
   ]
  },
  {
   "cell_type": "markdown",
   "metadata": {},
   "source": [
    "- A esta función le podemos especificar la fuente de los datos para que se use la api específica para la descarga de datos de cada fuente.\n",
    "- Fuentes:\n",
    " - Google Finance: su api ya no sirve.\n",
    " - Quandl: necesita registrarse para obtener un api key.\n",
    " - IEX: los datos tienen antiguedad máxima de 5 años y de equities estadounidenses.\n",
    " - Yahoo! Finance: su api ha tenido cambios significativos y ya no es posible usarla desde DataReader. Sin embargo permite obtener datos de distintas bolsas (incluida la mexicana), por eso le haremos la luchita."
   ]
  },
  {
   "cell_type": "code",
   "execution_count": 28,
   "metadata": {},
   "outputs": [
    {
     "name": "stdout",
     "output_type": "stream",
     "text": [
      "[*********************100%***********************]  2 of 2 completed\n"
     ]
    }
   ],
   "source": [
    "# Ejemplo yahoo\n",
    "closes = web.get_data_yahoo(\n",
    "    tickers=[\"AAPL\", \"AMZN\"],\n",
    "    start=\"2015-01-01\", \n",
    "    interval=\"1d\"\n",
    ")[[\"Adj Close\"]]"
   ]
  },
  {
   "cell_type": "code",
   "execution_count": 29,
   "metadata": {},
   "outputs": [
    {
     "data": {
      "text/html": [
       "<div>\n",
       "<style scoped>\n",
       "    .dataframe tbody tr th:only-of-type {\n",
       "        vertical-align: middle;\n",
       "    }\n",
       "\n",
       "    .dataframe tbody tr th {\n",
       "        vertical-align: top;\n",
       "    }\n",
       "\n",
       "    .dataframe thead tr th {\n",
       "        text-align: left;\n",
       "    }\n",
       "\n",
       "    .dataframe thead tr:last-of-type th {\n",
       "        text-align: right;\n",
       "    }\n",
       "</style>\n",
       "<table border=\"1\" class=\"dataframe\">\n",
       "  <thead>\n",
       "    <tr>\n",
       "      <th></th>\n",
       "      <th colspan=\"2\" halign=\"left\">Adj Close</th>\n",
       "    </tr>\n",
       "    <tr>\n",
       "      <th></th>\n",
       "      <th>AAPL</th>\n",
       "      <th>AMZN</th>\n",
       "    </tr>\n",
       "    <tr>\n",
       "      <th>Date</th>\n",
       "      <th></th>\n",
       "      <th></th>\n",
       "    </tr>\n",
       "  </thead>\n",
       "  <tbody>\n",
       "    <tr>\n",
       "      <th>2015-01-02</th>\n",
       "      <td>24.603205</td>\n",
       "      <td>15.426000</td>\n",
       "    </tr>\n",
       "    <tr>\n",
       "      <th>2015-01-05</th>\n",
       "      <td>23.910093</td>\n",
       "      <td>15.109500</td>\n",
       "    </tr>\n",
       "    <tr>\n",
       "      <th>2015-01-06</th>\n",
       "      <td>23.912342</td>\n",
       "      <td>14.764500</td>\n",
       "    </tr>\n",
       "    <tr>\n",
       "      <th>2015-01-07</th>\n",
       "      <td>24.247648</td>\n",
       "      <td>14.921000</td>\n",
       "    </tr>\n",
       "    <tr>\n",
       "      <th>2015-01-08</th>\n",
       "      <td>25.179300</td>\n",
       "      <td>15.023000</td>\n",
       "    </tr>\n",
       "    <tr>\n",
       "      <th>...</th>\n",
       "      <td>...</td>\n",
       "      <td>...</td>\n",
       "    </tr>\n",
       "    <tr>\n",
       "      <th>2023-02-03</th>\n",
       "      <td>154.500000</td>\n",
       "      <td>103.389999</td>\n",
       "    </tr>\n",
       "    <tr>\n",
       "      <th>2023-02-06</th>\n",
       "      <td>151.729996</td>\n",
       "      <td>102.180000</td>\n",
       "    </tr>\n",
       "    <tr>\n",
       "      <th>2023-02-07</th>\n",
       "      <td>154.649994</td>\n",
       "      <td>102.110001</td>\n",
       "    </tr>\n",
       "    <tr>\n",
       "      <th>2023-02-08</th>\n",
       "      <td>151.919998</td>\n",
       "      <td>100.050003</td>\n",
       "    </tr>\n",
       "    <tr>\n",
       "      <th>2023-02-09</th>\n",
       "      <td>153.550003</td>\n",
       "      <td>101.081299</td>\n",
       "    </tr>\n",
       "  </tbody>\n",
       "</table>\n",
       "<p>2041 rows × 2 columns</p>\n",
       "</div>"
      ],
      "text/plain": [
       "             Adj Close            \n",
       "                  AAPL        AMZN\n",
       "Date                              \n",
       "2015-01-02   24.603205   15.426000\n",
       "2015-01-05   23.910093   15.109500\n",
       "2015-01-06   23.912342   14.764500\n",
       "2015-01-07   24.247648   14.921000\n",
       "2015-01-08   25.179300   15.023000\n",
       "...                ...         ...\n",
       "2023-02-03  154.500000  103.389999\n",
       "2023-02-06  151.729996  102.180000\n",
       "2023-02-07  154.649994  102.110001\n",
       "2023-02-08  151.919998  100.050003\n",
       "2023-02-09  153.550003  101.081299\n",
       "\n",
       "[2041 rows x 2 columns]"
      ]
     },
     "execution_count": 29,
     "metadata": {},
     "output_type": "execute_result"
    }
   ],
   "source": [
    "# Precios ajustados en el cierre\n",
    "closes"
   ]
  },
  {
   "cell_type": "code",
   "execution_count": 30,
   "metadata": {},
   "outputs": [],
   "source": [
    "# Función para descargar precios de cierre ajustados:\n",
    "def get_adj_closes(tickers,\n",
    "                   start_date=None,\n",
    "                   end_date=None):\n",
    "    # Fecha inicio por defecto (start_date='2010-01-01') y fecha fin por defecto (end_date=today)\n",
    "    # Descargamos DataFrame con todos los datos\n",
    "    closes = web.DataReader(\n",
    "        name=tickers,\n",
    "        data_source='yahoo',\n",
    "        start=start_date,\n",
    "        end=end_date\n",
    "    )\n",
    "    # Solo necesitamos los precios ajustados en el cierre\n",
    "    closes = closes['Adj Close']\n",
    "    # Se ordenan los índices de manera ascendente\n",
    "    closes.sort_index(inplace=True)\n",
    "    return closes"
   ]
  },
  {
   "cell_type": "markdown",
   "metadata": {},
   "source": [
    "**Nota**: Para descargar datos de la bolsa mexicana de valores (BMV), el ticker debe tener la extensión MX. \n",
    "Por ejemplo: *GAPB.MX*, *LABB.MX*, *GFINBURO.MX* y *GFNORTEO.MX*."
   ]
  },
  {
   "cell_type": "code",
   "execution_count": null,
   "metadata": {},
   "outputs": [],
   "source": [
    "# Ejemplo: GAPB.MX, LABB.MX, \n",
    "# GFINBURO.MX y GFNORTEO.MX\n"
   ]
  },
  {
   "cell_type": "code",
   "execution_count": null,
   "metadata": {},
   "outputs": [],
   "source": [
    "# Gráfico\n"
   ]
  },
  {
   "cell_type": "markdown",
   "metadata": {},
   "source": [
    "**Conclusión**\n",
    "- Aprendimos a importar datos desde archivos locales.\n",
    "- Aprendimos a importar datos remotamente con el paquete pandas_datareader.\n",
    "\n",
    "¿Ahora qué? Pues con estos históricos, obtendremos los rendimientos y ellos nos servirán como base para caracterizar la distribución de rendimientos... \n",
    "\n",
    "### ¡Oh, si!"
   ]
  },
  {
   "cell_type": "markdown",
   "metadata": {},
   "source": [
    "<script>\n",
    "  $(document).ready(function(){\n",
    "    $('div.prompt').hide();\n",
    "    $('div.back-to-top').hide();\n",
    "    $('nav#menubar').hide();\n",
    "    $('.breadcrumb').hide();\n",
    "    $('.hidden-print').hide();\n",
    "  });\n",
    "</script>\n",
    "\n",
    "<footer id=\"attribution\" style=\"float:right; color:#808080; background:#fff;\">\n",
    "Created with Jupyter by Esteban Jiménez Rodríguez.\n",
    "</footer>"
   ]
  }
 ],
 "metadata": {
  "kernelspec": {
   "display_name": "Python 3 (ipykernel)",
   "language": "python",
   "name": "python3"
  },
  "language_info": {
   "codemirror_mode": {
    "name": "ipython",
    "version": 3
   },
   "file_extension": ".py",
   "mimetype": "text/x-python",
   "name": "python",
   "nbconvert_exporter": "python",
   "pygments_lexer": "ipython3",
   "version": "3.9.12"
  }
 },
 "nbformat": 4,
 "nbformat_minor": 2
}
